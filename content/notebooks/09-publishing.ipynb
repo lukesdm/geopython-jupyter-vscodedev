{
 "cells": [
  {
   "cell_type": "markdown",
   "metadata": {},
   "source": [
    "# Publishing\n",
    "\n",
    "## Overview\n",
    "Dissemination is a key component of any geospatial data management lifecycle and the Internet is the key gateway in sharing your data with others.  Putting your data on the web has never been easier with services from Google, GitHub, Amazon, Azure, DigitalOcean and others, as well as numerous tooling for making data available through application programming interfaces (APIs).\n",
    "\n",
    "Publishing geospatial geospatial data has varying degrees of complexity.  From simply posting files to a web server to provisioning services and APIs, there are no shortage on mechanisms to publish your data.\n",
    "\n",
    "In this section we will focus on basic data and metadata publishing using [pygeoapi](https://pygeoapi.io) (which supports numerous [OGC API](https://ogcapi.org) standards) and [pycsw](https://pycsw.org) (which supports the OGC Catalogue Serivice for the Web [CSW] specification).  Thus the basic workflow is as follows:\n",
    "\n",
    "```bash\n",
    "Data publishing -> pygeoapi -> OGC API Clients\n",
    "Metadata publishing -> pycsw -> OGC CSW and OGC API - Records Clients\n",
    "```\n",
    "\n",
    "More examples of these services and interacting with them remotely are covered in Sections 10 and 11.\n",
    "\n",
    "For this example we are using the [WMO WOUDC](https://woudc.org) list of [Ozone and UV monitoring stations](https://woudc.org/data/stations) (retrieved 2021-09-14).  The data can be found in:\n",
    "\n",
    "- data: `../data/woudc-stations.geojson`\n",
    "- metadata: `../data/woudc-stations.mcf`"
   ]
  },
  {
   "cell_type": "markdown",
   "metadata": {},
   "source": [
    "## Publishing vector data\n",
    "\n",
    "Let's inspect our current OGC API endpoint powered by pygeoapi:\n",
    "\n",
    "http://localhost:5000/collections\n",
    "\n",
    "To see the same listing in JSON:\n",
    "\n",
    "http://localhost:5000/collections?f=json\n",
    "\n",
    "Here you will see 10 feature collections listed on the resulting webpage.  Feature collections are\n",
    "identified by the `\"itemType\": \"feature\"` in the collection definition in the JSON response.\n",
    "\n",
    "Now let's add the WOUDC station data to our pygeoapi instance.\n",
    "\n",
    "### Update pygeoapi configuration\n",
    "\n",
    "- Using a text editor, in the directory in which you downloaded and extracted the workshop,\n",
    "open the file `workshop/services/pygeoapi-config.yml`.  This is the runtime configuration for the pygeoapi instance at http://localhost:5000\n",
    "- jump to line 608 in the file\n",
    "- uncomment lines 608 to 632\n",
    "- save the file and exit your text editor program\n",
    "\n",
    "### Restart pygeoapi service\n",
    "\n",
    "To ensure our updates are made available, we need to restart the Docker container that provides pygeoapi for this workshop:\n",
    "\n",
    "```bash\n",
    "docker restart geopython-workshop-pygeoapi\n",
    "```\n",
    "\n",
    "At this point the pygeoapi instance will provide the WOUDC stations as a feature collection.  To verify, inspect the following URLs:\n",
    "\n",
    "http://localhost:5000/collections\n",
    "\n",
    "Now you will see 11 feature collections listed on the resulting webpage.  To see the same listing in JSON:\n",
    "\n",
    "http://localhost:5000/collections?f=json\n",
    "\n",
    "Let's inspect our newly added feature collection:\n",
    "\n",
    "http://localhost:5000/collections/woudc-stations\n",
    "\n",
    "...and in JSON:\n",
    "\n",
    "http://localhost:5000/collections/woudc-stations?f=json\n",
    "\n",
    "Let's browse the items in the feature collection:\n",
    "\n",
    "http://localhost:5000/collections/woudc-stations/items\n",
    "\n",
    "...and in JSON:\n",
    "\n",
    "http://localhost:5000/collections/woudc-stations/items?f=json"
   ]
  },
  {
   "cell_type": "markdown",
   "metadata": {},
   "source": [
    "## Publishing raster data\n",
    "\n",
    "pygeoapi also has the ability to publish raster data as coverages.  Our pygeoapi instance now has 11 collections, so let's add an SRTM GeoTIFF coverage to our pygeoapi instance.\n",
    "\n",
    "### Update pygeoapi configuration\n",
    "\n",
    "\n",
    "* Using a text editor, in the directory in which you downloaded and extracted the workshop, open the file workshop/services/pygeoapi-config.yml. This is the runtime configuration for the pygeoapi instance at http://localhost:5000\n",
    "* jump to line 635 in the file\n",
    "* uncomment lines 635 to 660\n",
    "* save the file and exit your text editor program\n",
    "\n",
    "### Restart pygeoapi service\n",
    "\n",
    "Let's restart the Docker container again to ensure our server configuration updates are made available:\n",
    "\n",
    "```bash\n",
    "docker restart geopython-workshop-pygeoapi\n",
    "```\n",
    "\n",
    "At this point the pygeoapi instance will provide the SRTM data as a collection of type coverage. To verify, inspect the following URLs:\n",
    "\n",
    "http://localhost:5000/collections\n",
    "\n",
    "You should see 12 collections at this point.  Let's inspect the SRTM collection:\n",
    "\n",
    "http://localhost:5000/collections/srtm\n",
    "\n",
    "Notice the \"Coverage\" links at the bottom of the webpage.  Let's see how this looks in the JSON response:\n",
    "\n",
    "http://localhost:5000/collections/srtm?f=json\n",
    "\n",
    "In the collection `links` section, notice the links where the `rel` properties start with `http://www.opengis.net/def/rel/ogc/1.0/coverage-*`.  This signifies that the collection has a coverage representation.  A client can then interact with the coverage via the OGC API - Coverages standard:\n",
    "\n",
    "http://localhost:5000/collections/srtm/coverage/rangetype\n",
    "\n",
    "http://localhost:5000/collections/srtm/coverage/domainset\n",
    "\n",
    "http://localhost:5000/collections/srtm/coverage/coverage\n",
    "\n"
   ]
  },
  {
   "cell_type": "markdown",
   "metadata": {},
   "source": [
    "## Publishing metadata\n",
    "\n",
    "We all know that data is useless without metadata right? Let's use what we learned in [Section 08 - Metadata](08-metadata.ipynb) to publish a metadata record of the WOUDC stations to pycsw.\n"
   ]
  },
  {
   "cell_type": "code",
   "execution_count": null,
   "metadata": {},
   "outputs": [],
   "source": [
    "!pygeometa metadata generate ../data/woudc-stations.yml --schema iso19139 --output ../data/woudc-stations.xml"
   ]
  },
  {
   "cell_type": "code",
   "execution_count": null,
   "metadata": {},
   "outputs": [],
   "source": [
    "!ls -l ../data/woudc-stations.*"
   ]
  },
  {
   "cell_type": "markdown",
   "metadata": {},
   "source": [
    "At this point let's publish to Docker container providing the pycsw service for this workshop.  Run the following commands from a terminal.\n",
    "\n",
    "```bash\n",
    "docker exec -it geopython-workshop-pycsw pycsw-admin.py load-records -p /jupyter/content/data/woudc-stations.xml  -c /etc/pycsw/pycsw.cfg\n",
    "```\n",
    "\n",
    "### CSW examples\n",
    "\n",
    "Now let's inspect the record in pycsw in the CSW default Dublin Core representation:\n",
    "\n",
    "http://localhost:8001/csw?service=CSW&version=2.0.2&request=GetRecordById&id=woudc-stations\n",
    "\n",
    "...via the ISO 19115:2003 representation:\n",
    "\n",
    "http://localhost:8001/csw?service=CSW&version=2.0.2&request=GetRecordById&id=woudc-stations&outputschema=http://www.isotc211.org/2005/gmd\n",
    "\n",
    "...using CSW 3.0 text search functionality:\n",
    "\n",
    "http://localhost:8001/csw?service=CSW&version=3.0.0&request=GetRecords&typenames=csw:Record&q=ozone\n",
    "\n",
    "If you have QGIS installed, use the MetaSearch plugin to:\n",
    "\n",
    "- add the CSW at http://localhost:8001\n",
    "- search the CSW for the WOUDC record\n",
    "\n",
    "### OGC API - Records examples\n",
    "\n",
    "Now, let's additionally see the record in the OGC API - Records functionality:\n",
    "\n",
    "http://localhost:8001/collections/metadata:main (metadata collection information)\n",
    "\n",
    "http://localhost:8001/collections/metadata:main/queryables (queryables)\n",
    "\n",
    "http://localhost:8001/collections/metadata:main/items (items)\n",
    "\n",
    "http://localhost:8001/collections/metadata:main/items?f=json (items as JSON)\n",
    "\n",
    "Note that OGC API - Records support in QGIS MetaSearch is currently pending and should\n",
    "be made available in an upcoming release.  For now, let's interact with the pycsw\n",
    "catalogue's OGC API - Records support via OWSLib:"
   ]
  },
  {
   "cell_type": "code",
   "execution_count": null,
   "metadata": {},
   "outputs": [],
   "source": [
    "from owslib.ogcapi.records import Records\n",
    "\n",
    "cat = Records('http://geopython-workshop-pycsw:8000')\n",
    "cat.collections()"
   ]
  },
  {
   "cell_type": "code",
   "execution_count": null,
   "metadata": {},
   "outputs": [],
   "source": [
    "catalogue_name = 'metadata:main'\n",
    "\n",
    "my_catalogue = cat.collection(catalogue_name)\n",
    "\n",
    "cat.collection_queryables(catalogue_name)"
   ]
  },
  {
   "cell_type": "code",
   "execution_count": null,
   "metadata": {},
   "outputs": [],
   "source": [
    "my_catalogue_query = cat.collection_items(catalogue_name)\n",
    "my_catalogue_query"
   ]
  },
  {
   "cell_type": "markdown",
   "metadata": {},
   "source": [
    "### OGC API and formats\n",
    "\n",
    "Notice anything different about the response formats in the various OGC API requests?  You got it, JSON and HTML are now prevalent in these APIs, further lowering the barrier to adoption!  We'll talk a bit more about the emerging OGC API efforts in Section 11."
   ]
  },
  {
   "cell_type": "markdown",
   "metadata": {},
   "source": [
    "## Docker magic\n",
    "As noted previously, we are using Docker to be able to deploy pygeoapi and pycsw services in an easy and robust fashion.  For the purposes of this workshop, we need to be able to make parts of these services accessible to facilitate exercises (updating configuration, adding data/metadata).\n",
    "\n",
    "### Local mounts\n",
    "The configurations of pygeoapi and pycsw on their native Docker containers are overridden by local mounts which are made available to the workshop.  As a result, making changes to these configurations from the workshop results in these changes being reflected in the Docker containers.  This saves the workshop participant from logging into the Docker containers and updating configuration by hand.\n",
    "\n",
    "### Docker command execution\n",
    "Docker command execution (i.e. `docker exec` as exemplified above) allows for the workshop participant to run commands on the Docker container without having to login directly).  We use this approach in use of `pycsw-admin.py` tooling to publish metadata from disk."
   ]
  },
  {
   "cell_type": "markdown",
   "metadata": {},
   "source": [
    "---\n",
    "[<- Metadata](08-metadata.ipynb) | [Remote data ->](10-remote-data.ipynb)"
   ]
  }
 ],
 "metadata": {
  "kernelspec": {
   "display_name": "Python 3 (ipykernel)",
   "language": "python",
   "name": "python3"
  },
  "language_info": {
   "codemirror_mode": {
    "name": "ipython",
    "version": 3
   },
   "file_extension": ".py",
   "mimetype": "text/x-python",
   "name": "python",
   "nbconvert_exporter": "python",
   "pygments_lexer": "ipython3",
   "version": "3.8.10"
  }
 },
 "nbformat": 4,
 "nbformat_minor": 2
}
