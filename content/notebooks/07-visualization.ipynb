{
 "cells": [
  {
   "cell_type": "markdown",
   "metadata": {},
   "source": [
    "# Visualization\n",
    "When it comes to visualizing geospatial data with/on maps with Python, a great number of tools and techniques\n",
    "are available. In this lesson we will explore several of these:\n",
    "\n",
    "* [Folium](https://github.com/python-visualization/folium)\n",
    "* [ipyleaflet](https://ipyleaflet.readthedocs.io)\n",
    "* [Bokeh](https://bokeh.pydata.org)\n"
   ]
  },
  {
   "cell_type": "markdown",
   "metadata": {},
   "source": [
    "## Folium\n",
    "Whenever you visit a website that has some kind of interactive map, it\n",
    "is quite probable that you are witnessing a map that has been made with\n",
    "a JavaScript library called [Leaflet](http://leafletjs.com). The\n",
    "other popular library you might encounter is\n",
    "[OpenLayers](https://openlayers.org).\n",
    "\n",
    "The Python module \n",
    "[Folium](https://github.com/python-visualization/folium) makes\n",
    "it possible to visualize data that has been manipulated in Python on an\n",
    "interactive Leaflet map.\n",
    "\n",
    "### Basics\n",
    "We will start with the most minimal map using the default OpenStreetMap base map.\n",
    "See [Folium Quickstart](https://python-visualization.github.io/folium/quickstart.html).\n"
   ]
  },
  {
   "cell_type": "code",
   "execution_count": null,
   "metadata": {
    "pycharm": {
     "name": "#%%\n"
    }
   },
   "outputs": [],
   "source": [
    "import folium\n",
    "\n",
    "folium_map = folium.Map(location=[-34.603722, -58.381592])"
   ]
  },
  {
   "cell_type": "markdown",
   "metadata": {},
   "source": [
    "The `location` keyword argument (there are many more, with sensible defaults) provides the Map centre in Latitude and Longitude (Northing, Easting). To display the Map in a Jupyter notebook, simply ask for its object representation:\n"
   ]
  },
  {
   "cell_type": "code",
   "execution_count": null,
   "metadata": {
    "pycharm": {
     "name": "#%%\n"
    },
    "scrolled": true
   },
   "outputs": [],
   "source": [
    "folium_map"
   ]
  },
  {
   "cell_type": "markdown",
   "metadata": {
    "pycharm": {
     "name": "#%% md\n"
    }
   },
   "source": [
    "You could even save this map to a file and serve it via a webserver: \n"
   ]
  },
  {
   "cell_type": "code",
   "execution_count": null,
   "metadata": {
    "pycharm": {
     "name": "#%%\n"
    }
   },
   "outputs": [],
   "source": [
    "folium_map.save('test/07-folium-1.html')"
   ]
  },
  {
   "cell_type": "markdown",
   "metadata": {},
   "source": [
    "Now [open this map here](test/07-folium-1.html) as \"regular\" HTML! \n"
   ]
  },
  {
   "cell_type": "markdown",
   "metadata": {},
   "source": [
    "### GeoJSON overlay\n",
    "It gets interesting when you can overlay the map with data manipulated\n",
    "via Python. Here we overlay the map with the Polygons of all countries, though\n",
    "that set is in a lower resolution clearly.\n"
   ]
  },
  {
   "cell_type": "code",
   "execution_count": null,
   "metadata": {
    "pycharm": {
     "name": "#%%\n"
    }
   },
   "outputs": [],
   "source": [
    "countries = f'../data/countries.json'\n",
    "\n",
    "folium_map2 = folium.Map(\n",
    "    location=[0, 0],\n",
    "    zoom_start=2  \n",
    ")\n",
    "\n",
    "folium.GeoJson(\n",
    "    countries,\n",
    "    name='countries'\n",
    ").add_to(folium_map2)\n",
    "\n",
    "folium.LayerControl().add_to(folium_map2)\n",
    "\n",
    "folium_map2"
   ]
  },
  {
   "cell_type": "code",
   "execution_count": null,
   "metadata": {
    "pycharm": {
     "name": "#%%\n"
    }
   },
   "outputs": [],
   "source": [
    "# Also save this map\n",
    "folium_map2.save('test/07-folium-2.html')"
   ]
  },
  {
   "cell_type": "markdown",
   "metadata": {},
   "source": [
    "And [open this map with overlay here](test/07-folium-2.html). \n",
    "\n",
    "Much more is possible with Folium, we just scratched the surface here!"
   ]
  },
  {
   "cell_type": "markdown",
   "metadata": {
    "pycharm": {
     "name": "#%% md\n"
    }
   },
   "source": [
    "## Interactive maps in the Jupyter notebook with ipyleaflet\n",
    "ipyleaflet is a Jupyter/Leaflet bridge enabling interactive maps in the Jupyter notebook.\n",
    "(Although one can always save the results and use these maps in non-Jupyter contexts!).\n",
    "\n",
    "`ipyleaflet` is based on [ipywidgets](https://ipywidgets.readthedocs.io).\n",
    "ipywidgets are interactive HTML widgets for Jupyter notebooks and the IPython kernel.\n",
    "\n",
    "Links:\n",
    "\n",
    "* GitHub: https://github.com/jupyter-widgets/ipyleaflet\n",
    "* Documentation: https://ipyleaflet.readthedocs.io"
   ]
  },
  {
   "cell_type": "markdown",
   "metadata": {
    "pycharm": {
     "name": "#%% md\n"
    }
   },
   "source": [
    "### ipyleaflet - simplest map"
   ]
  },
  {
   "cell_type": "code",
   "execution_count": null,
   "metadata": {
    "pycharm": {
     "name": "#%%\n"
    },
    "scrolled": true
   },
   "outputs": [],
   "source": [
    "from ipyleaflet import *\n",
    "\n",
    "m = Map(center=(-34.603722, -58.381592), zoom=3, basemap=basemaps.OpenStreetMap.Mapnik)\n",
    "m"
   ]
  },
  {
   "cell_type": "markdown",
   "metadata": {},
   "source": [
    "### ipyleaflet - add overlay tiles\n",
    "This basemap is now transparently overlayed with tiles from the [Strava heatmap](https://www.strava.com/heatmap)."
   ]
  },
  {
   "cell_type": "code",
   "execution_count": null,
   "metadata": {
    "pycharm": {
     "name": "#%%\n"
    }
   },
   "outputs": [],
   "source": [
    "strava_all = basemap_to_tiles(basemaps.Strava.All)\n",
    "m.add_layer(strava_all)\n",
    "m"
   ]
  },
  {
   "cell_type": "markdown",
   "metadata": {},
   "source": [
    "### ipyleaflet - mouse interaction handling\n",
    "We'll remove the overlay and add interaction to show lat/lon coordinates where your mouse is. "
   ]
  },
  {
   "cell_type": "code",
   "execution_count": null,
   "metadata": {
    "pycharm": {
     "name": "#%%\n"
    }
   },
   "outputs": [],
   "source": [
    "m.remove_layer(strava_all)\n",
    "\n",
    "from ipywidgets import Label\n",
    "\n",
    "label = Label()\n",
    "display(label)\n",
    "\n",
    "def handle_interaction(**kwargs):\n",
    "    if kwargs.get('type') == 'mousemove':\n",
    "        label.value = str(kwargs.get('coordinates'))\n",
    "\n",
    "m.on_interaction(handle_interaction)\n",
    "m"
   ]
  },
  {
   "cell_type": "markdown",
   "metadata": {},
   "source": [
    "### ipyleaflet - Add Overlay Vector Layer\n",
    "We will add some rivers.\n"
   ]
  },
  {
   "cell_type": "code",
   "execution_count": null,
   "metadata": {
    "pycharm": {
     "name": "#%% \n"
    }
   },
   "outputs": [],
   "source": [
    "import json\n",
    "\n",
    "with open('../data/rivers_lake_centerlines.json') as f:\n",
    "    data = json.load(f)\n",
    "    \n",
    "for feature in data['features']:\n",
    "    feature['properties']['style'] = {\n",
    "        'color': 'blue',\n",
    "        'weight': 1,\n",
    "        'fillColor': 'blue',\n",
    "        'fillOpacity': 0.5\n",
    "    }\n",
    "geo = GeoJSON(data=data, hover_style={'fillColor': 'red'}, name='Rivers-Lakes')\n",
    "m.add_layer(geo)\n",
    "m"
   ]
  },
  {
   "cell_type": "markdown",
   "metadata": {},
   "source": [
    "### ipyleaflet - Adding Control\n",
    "Add a control to select layers to display on map.\n"
   ]
  },
  {
   "cell_type": "code",
   "execution_count": null,
   "metadata": {
    "pycharm": {
     "name": "#%%\n"
    }
   },
   "outputs": [],
   "source": [
    "m.add_control(LayersControl())"
   ]
  },
  {
   "cell_type": "markdown",
   "metadata": {},
   "source": [
    "### ipyleaflet - Creating two maps side by side\n",
    "As ipyleaflet is based on ipywidgets, we can make interesting combinations.\n"
   ]
  },
  {
   "cell_type": "code",
   "execution_count": null,
   "metadata": {
    "pycharm": {
     "name": "#%%\n"
    }
   },
   "outputs": [],
   "source": [
    "import ipywidgets\n",
    " \n",
    "ipywidgets.HBox([m, Map(center=[-34.603722, -58.381592], zoom=8)])"
   ]
  },
  {
   "cell_type": "markdown",
   "metadata": {},
   "source": [
    "### ipyleaflet - Adding Popup \n",
    "\n",
    "#### 1. Adding static popup"
   ]
  },
  {
   "cell_type": "code",
   "execution_count": null,
   "metadata": {},
   "outputs": [],
   "source": [
    "from ipywidgets import HTML\n",
    "from ipyleaflet import Map, Marker, Popup\n",
    "center = (43.7782731,11.247928)\n",
    "m = Map(center=center, zoom=17, close_popup_on_click=False)\n",
    "marker = Marker(location=(43.7782731,11.247928))\n",
    "m.add_layer(marker)\n",
    "message2 = HTML()\n",
    "message2.value = \"Hey!! I'm speaking at foss4g 2022 🔥\"\n",
    "marker.popup = message2\n",
    "m"
   ]
  },
  {
   "cell_type": "markdown",
   "metadata": {},
   "source": [
    "#### 2. Using Custom data for popup\n",
    "\n",
    "For this example we'll prepare map of following scenario\n",
    "Seeing all the cities as a point on map and on click show their name"
   ]
  },
  {
   "cell_type": "code",
   "execution_count": null,
   "metadata": {},
   "outputs": [],
   "source": [
    "#Preparing data \n",
    "import geopandas as gpd\n",
    "all_cities =  gpd.read_file('../data/shape/populated_places.shp')\n",
    "all_countries =  gpd.read_file('../data/ne_110m_admin_0_countries/ne_110m_admin_0_countries.shp')\n",
    "all_cities.dropna(subset=[\"NAME\",\"geometry\"])\n",
    "India = all_countries[all_countries['NAME'] == 'India']\n",
    "Indian_cities = all_cities[all_cities.within(India.squeeze().geometry)]\n",
    "Indian_cities\n",
    "\n",
    "# Creating Map\n",
    "from ipyleaflet import Map, Marker, Popup\n",
    "from ipywidgets import HTML\n",
    "center = (33.762918,68.637469)\n",
    "m = Map(center=center, zoom=3, close_popup_on_click=False)\n",
    "\n",
    "# Adding data as marker \n",
    "for index, row in Indian_cities.iterrows():\n",
    "    message2 = HTML()\n",
    "    marker = Marker(location=(row['geometry'].y, row['geometry'].x))\n",
    "    message2.value = row['NAME']\n",
    "    # message2.description = row['NAME']\n",
    "    marker.popup = message2\n",
    "    m.add_layer(marker)\n",
    "#     print(index)\n",
    "\n",
    "#load map\n",
    "m"
   ]
  },
  {
   "cell_type": "markdown",
   "metadata": {},
   "source": [
    "## Another interesting map options\n",
    "\n",
    "1. AntPath \n",
    "2. Marker Cluster\n",
    "3. Heatmap\n",
    "4. Velocity\n",
    "5. Choropleth\n",
    "\n",
    "check out out at https://ipyleaflet.readthedocs.io/"
   ]
  },
  {
   "cell_type": "markdown",
   "metadata": {
    "pycharm": {
     "name": "#%% md\n"
    }
   },
   "source": [
    "## Bokeh\n",
    "\n",
    "Bokeh is a very powerful framework to produce powerful maps in combination\n",
    "with data. With Geopandas and Bokeh one can produce nice looking interactive maps like in the image below:\n",
    "\n",
    "![Bokeh and Geopandas Example](images/bokeh-example1.jpg)\n",
    "*Interactive Map with Bokeh and GeoPandas - Source: [CSC L6](https://automating-gis-processes.github.io/CSC/lessons/L6/interactive-map-bokeh.html)*\n"
   ]
  },
  {
   "cell_type": "markdown",
   "metadata": {},
   "source": [
    "### Bokeh - links\n",
    "\n",
    "See also:\n",
    "\n",
    "* https://automating-gis-processes.github.io/CSC/lessons/L6/interactive-map-bokeh.html\n",
    "* [Binder for Geographic Plots in Bokeh](https://mybinder.org/v2/gh/bokeh/bokeh-notebooks/master?filepath=tutorial%2F09%20-%20Geographic%20Plots.ipynb)\n",
    "* https://towardsdatascience.com/exploring-and-visualizing-chicago-transit-data-using-pandas-and-bokeh-part-ii-intro-to-bokeh-5dca6c5ced10\n",
    "* https://pythonawesome.com/bokeh-plotting-backend-for-pandas-and-geopandas/\n"
   ]
  },
  {
   "cell_type": "markdown",
   "metadata": {},
   "source": [
    "### Bokeh - making a simple plot\n",
    "First, we learn the basic logic of plotting in Bokeh by making a simple interactive plot with a few points.\n",
    "\n",
    "Import the necessary functionalities from Bokeh."
   ]
  },
  {
   "cell_type": "code",
   "execution_count": null,
   "metadata": {
    "pycharm": {
     "name": "#%%\n"
    }
   },
   "outputs": [],
   "source": [
    "from bokeh.plotting import figure, save"
   ]
  },
  {
   "cell_type": "markdown",
   "metadata": {
    "pycharm": {
     "name": "#%% md\n"
    }
   },
   "source": [
    "Initialize our plot by calling the `figure` object.\n"
   ]
  },
  {
   "cell_type": "code",
   "execution_count": null,
   "metadata": {
    "pycharm": {
     "name": "#%%\n"
    }
   },
   "outputs": [],
   "source": [
    "p = figure(title='My first interactive plot!')"
   ]
  },
  {
   "cell_type": "markdown",
   "metadata": {},
   "source": [
    "Next we create lists of x and y coordinates that we want to plot.\n"
   ]
  },
  {
   "cell_type": "code",
   "execution_count": null,
   "metadata": {
    "pycharm": {
     "name": "#%%\n"
    }
   },
   "outputs": [],
   "source": [
    "x_coords = [0,1,2,3,4]\n",
    "y_coords = [5,4,1,2,0]"
   ]
  },
  {
   "cell_type": "markdown",
   "metadata": {},
   "source": [
    "\tIn Bokeh drawing points, lines or polygons are always done using \n",
    "\tlist(s) of x and y coordinates.\n",
    "\n",
    "Now we can plot those as points using a `.circle()` -object. Give it a red color and size of 10.\n"
   ]
  },
  {
   "cell_type": "code",
   "execution_count": null,
   "metadata": {
    "pycharm": {
     "name": "#%%\n"
    }
   },
   "outputs": [],
   "source": [
    "p.circle(x=x_coords, y=y_coords, size=10, color='red')"
   ]
  },
  {
   "cell_type": "markdown",
   "metadata": {},
   "source": [
    "Finally, we can save our interactive plot into the disk with save -function \n",
    "that we imported in the beginning. All interactive plots are typically \n",
    "saved as html files which you can open in a web-browser.\n",
    "\t\n",
    "\t# Save the plot by passing the plot -object and output path\n",
    "\tsave(obj=p, filename=\"../data/output/07-points.html\")\n",
    "\n",
    "Now you could open your interactive `points.html` plot by double-clicking it which should open it in a web browser.\n",
    "\n",
    "But we will plot directly in the Notebook here using `output_notebook()` and `show()`.\n"
   ]
  },
  {
   "cell_type": "code",
   "execution_count": null,
   "metadata": {
    "pycharm": {
     "name": "#%%\n"
    }
   },
   "outputs": [],
   "source": [
    "from bokeh.io import output_notebook, show\n",
    "output_notebook()"
   ]
  },
  {
   "cell_type": "markdown",
   "metadata": {},
   "source": [
    "And then the moment of magic:\n"
   ]
  },
  {
   "cell_type": "code",
   "execution_count": null,
   "metadata": {
    "pycharm": {
     "name": "#%%\n"
    }
   },
   "outputs": [],
   "source": [
    "show(p)"
   ]
  },
  {
   "cell_type": "markdown",
   "metadata": {},
   "source": [
    "### Bokeh - Creating an Interactive Tiled Background Map\n"
   ]
  },
  {
   "cell_type": "code",
   "execution_count": null,
   "metadata": {
    "pycharm": {
     "name": "#%%\n"
    }
   },
   "outputs": [],
   "source": [
    "from bokeh.plotting import figure\n",
    "from bokeh.tile_providers import get_provider, Vendors\n",
    "from bokeh.io import output_notebook, show\n",
    "output_notebook()"
   ]
  },
  {
   "cell_type": "markdown",
   "metadata": {},
   "source": [
    "If you show the figure, you can then use the wheel zoom and pan tools to navigate over any zoom level, \n",
    "and Bokeh will request the appropriate tiles from the server and insert them at the correct locations in the plot:\n"
   ]
  },
  {
   "cell_type": "code",
   "execution_count": null,
   "metadata": {
    "pycharm": {
     "name": "#%%\n"
    }
   },
   "outputs": [],
   "source": [
    "# When using in standard Python env\n",
    "# output_file(\"tile.html\")\n",
    "\n",
    "tile_provider = get_provider(Vendors.CARTODBPOSITRON)\n",
    "\n",
    "# range bounds supplied in web mercator coordinates\n",
    "p = figure(tools='pan, wheel_zoom', x_range=(-10000000, -3000000), y_range=(-6000000, 0),\n",
    "           x_axis_type='mercator', y_axis_type='mercator')\n",
    "p.add_tile(tile_provider)\n",
    "\n",
    "show(p)"
   ]
  },
  {
   "cell_type": "markdown",
   "metadata": {},
   "source": [
    "### Creating an Interactive Maps using Bokeh and Geopandas\n",
    "\n",
    "Creating an interactive Bokeh map from a Shapefile or other vector data file like GeoJSON\n",
    "consists typically of the following steps:\n",
    "\n",
    "* Read the spatial vector file into `GeoDataFrame`\n",
    "* Calculate the x and y coordinates of the geometries into separate columns\n",
    "* Convert the `GeoDataFrame` into a Bokeh `DataSource`\n",
    "* Plot the x and y coordinates as points, lines or polygons (which are in Bokeh words: `circle`, `multi_line` and `patches`)\n",
    "\n",
    "We follow the steps below, extending and plotting on the tiled map from above.\n"
   ]
  },
  {
   "cell_type": "code",
   "execution_count": null,
   "metadata": {
    "pycharm": {
     "name": "#%%\n"
    }
   },
   "outputs": [],
   "source": [
    "import geopandas as gpd\n",
    "\n",
    "# Read the data (already in Web Mercator projection (ignore the warning)\n",
    "points = gpd.read_file('../data/populated_places.3857.gpkg')"
   ]
  },
  {
   "cell_type": "code",
   "execution_count": null,
   "metadata": {
    "pycharm": {
     "name": "#%%\n"
    }
   },
   "outputs": [],
   "source": [
    "def getPointCoords(row, geom, coord_type):\n",
    "    \"\"\"Calculates coordinates ('x' or 'y') of a Point geometry\"\"\"\n",
    "    if coord_type == 'x':\n",
    "        return row[geom].x\n",
    "    elif coord_type == 'y':\n",
    "        return row[geom].y"
   ]
  },
  {
   "cell_type": "code",
   "execution_count": null,
   "metadata": {
    "pycharm": {
     "name": "#%%\n"
    }
   },
   "outputs": [],
   "source": [
    "points['x'] = points.apply(getPointCoords, geom='geometry', coord_type='x', axis=1)\n",
    "points['y'] = points.apply(getPointCoords, geom='geometry', coord_type='y', axis=1)"
   ]
  },
  {
   "cell_type": "code",
   "execution_count": null,
   "metadata": {
    "pycharm": {
     "name": "#%%\n"
    }
   },
   "outputs": [],
   "source": [
    "points.head(5)"
   ]
  },
  {
   "cell_type": "code",
   "execution_count": null,
   "metadata": {
    "pycharm": {
     "name": "#%% \n"
    }
   },
   "outputs": [],
   "source": [
    "p_df = points.drop('geometry', axis=1).copy()\n",
    "p_df.head(2)"
   ]
  },
  {
   "cell_type": "code",
   "execution_count": null,
   "metadata": {
    "pycharm": {
     "name": "#%%\n"
    }
   },
   "outputs": [],
   "source": [
    "from bokeh.models import ColumnDataSource\n",
    "psource = ColumnDataSource(p_df)"
   ]
  },
  {
   "cell_type": "code",
   "execution_count": null,
   "metadata": {
    "pycharm": {
     "name": "#%% \n"
    }
   },
   "outputs": [],
   "source": [
    "# p = figure(title=\"A map of populated places from a GeoPackage\")\n",
    "p.circle('x', 'y', source=psource, color='lightblue',size=15, alpha=0.7)\n",
    "show(p)"
   ]
  },
  {
   "cell_type": "markdown",
   "metadata": {
    "pycharm": {
     "name": "#%% md\n"
    }
   },
   "source": [
    "### Using Bokeh GeoJSONSource\n",
    "The above scenario could be effected even more compact.\n",
    "The Bokeh `GeoJSONDataSource` expects a GeoJSON-string, so we can \n",
    "just use ordinary file `open()/read()`.\n",
    "\n",
    "See `GeoJSONDataSource` example in the [Bokeh Documentation](https://bokeh.pydata.org/en/latest/docs/user_guide/geo.html#geojson-data).\n",
    "Though we have to do reprojection from WGS84 (default for GeoJSON)\n",
    "to EPSG:3857 (Web Mercator a.k.a. \"Google\" or \"OSM\" Projection) before. In this case we have already reprojected\n",
    "the GeoJSON file using `ogr2ogr`:\n",
    "\n",
    "\togr2ogr -s_srs EPSG:4326 -t_srs EPSG:3857 populated_places.3857.json populated_places.json\n"
   ]
  },
  {
   "cell_type": "code",
   "execution_count": null,
   "metadata": {
    "pycharm": {
     "name": "#%%\n"
    }
   },
   "outputs": [],
   "source": [
    "from bokeh.models import GeoJSONDataSource\n",
    "from bokeh.plotting import figure\n",
    "from bokeh.tile_providers import get_provider, Vendors\n",
    "from bokeh.io import output_notebook, show\n",
    "output_notebook()\n",
    "\n",
    "# We could also assemble map plus overlay in an HTML file\n",
    "# output_file(\"../data/output/07-bokeh-geojson.html\")"
   ]
  },
  {
   "cell_type": "markdown",
   "metadata": {},
   "source": [
    "Read the populated places GeoJSON\n"
   ]
  },
  {
   "cell_type": "code",
   "execution_count": null,
   "metadata": {
    "pycharm": {
     "name": "#%%\n"
    }
   },
   "outputs": [],
   "source": [
    "with open('../data/populated_places.3857.json') as json_file:\n",
    "        geojson = json_file.read()\n",
    "        \n",
    "geo_source = GeoJSONDataSource(geojson=geojson)"
   ]
  },
  {
   "cell_type": "markdown",
   "metadata": {},
   "source": [
    "Build the map. Again, use the wheel zoom and pan tools to navigate the map. \n"
   ]
  },
  {
   "cell_type": "code",
   "execution_count": null,
   "metadata": {
    "pycharm": {
     "name": "#%%\n"
    }
   },
   "outputs": [],
   "source": [
    "p = figure(tools='pan, wheel_zoom', x_axis_type='mercator', y_axis_type='mercator', width=800, height=500)\n",
    "\n",
    "# add background tiles layer from CARTO\n",
    "p.add_tile(get_provider(Vendors.CARTODBPOSITRON))\n",
    "\n",
    "# add populated places point overlay\n",
    "p.circle(x='x', y='y', size=10, alpha=0.7, source=geo_source, color='lightblue', legend_label='Populated Places')\n",
    "\n",
    "show(p)"
   ]
  },
  {
   "cell_type": "markdown",
   "metadata": {},
   "source": [
    "---\n",
    "[<- Data analysis](06-data-analysis.ipynb) | [Metadata ->](08-metadata.ipynb)"
   ]
  }
 ],
 "metadata": {
  "kernelspec": {
   "display_name": "Python 3 (ipykernel)",
   "language": "python",
   "name": "python3"
  },
  "language_info": {
   "codemirror_mode": {
    "name": "ipython",
    "version": 3
   },
   "file_extension": ".py",
   "mimetype": "text/x-python",
   "name": "python",
   "nbconvert_exporter": "python",
   "pygments_lexer": "ipython3",
   "version": "3.10.4"
  }
 },
 "nbformat": 4,
 "nbformat_minor": 2
}
