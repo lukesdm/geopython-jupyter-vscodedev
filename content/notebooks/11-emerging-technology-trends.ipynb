{
 "cells": [
  {
   "cell_type": "markdown",
   "metadata": {},
   "source": [
    "# Emerging technology and trends"
   ]
  },
  {
   "cell_type": "markdown",
   "metadata": {},
   "source": [
    "## OGC API\n",
    "The [OGC API](https://ogcapi.org) effort is focused on lowering the barrier and being more developer friendly.  Key OGC API principles include (but are not limited to):\n",
    "\n",
    "- [W3C Spatial Data on the Web Best Practices](https://www.w3.org/TR/sdw-bp)\n",
    "- make APIs more 'of the web'/webby\n",
    "- use of JSON and HTML\n",
    "- [OpenAPI](https://github.com/OAI/OpenAPI-Specification)\n",
    "- **Resource** oriented\n",
    "- RESTful patterns:\n",
    "  - `GET /foo/bar, not GET /foo request=bar`\n",
    "- ease of implementation for a wide audience of web developers\n",
    "\n",
    "OGC API efforts focus on key resource types:\n",
    "\n",
    "|OGC first generation | OGC API |\n",
    "|------------|---------|\n",
    "|OGC OWS Common | OGC API - Common|\n",
    "|OGC:WFS     | OGC API - Features|\n",
    "|OGC:WCS     | OGC API - Coverages|\n",
    "|OGC:CSW     | OGC API - Records|\n",
    "|OGC:WPS     | OGC API - Processes|\n",
    "|OGC:WMS     | OGC API - Maps|\n",
    "|OGC:WMTS    | OGC API - Tiles|\n",
    "|OGC:SLD     | OGC API - Styles|\n",
    "|-           | OGC API - Environmental Data Retrieval|"
   ]
  },
  {
   "cell_type": "markdown",
   "metadata": {},
   "source": [
    "A number of OGC APIs are now formally adopted (OGC API - Features, OGC API - Processes, OGC API - Environmental Data Retrieval) formally adopted.  The [OGC API Roadmap](https://ogcapi.ogc.org/apiroadmap.html) provides a timeline and schedule for the development of the all OGC APIs.  In addition, the APIs are designed for modularity, or 'building blocks' (see the OGC [Location Building Blocks](https://opengeospatial.github.io/bblocks) page for more information).\n",
    "\n",
    "While OGC API is not limited to Python and is programming language agnostic, Python's natural support for JSON makes things even easier to work with these new OGC standards.\n",
    "\n",
    "Let's interact with an OGC API - Features server:"
   ]
  },
  {
   "cell_type": "markdown",
   "metadata": {},
   "source": [
    "# Using Python requests"
   ]
  },
  {
   "cell_type": "code",
   "execution_count": null,
   "metadata": {},
   "outputs": [],
   "source": [
    "import json\n",
    "import requests\n",
    "\n",
    "url = 'https://demo.pygeoapi.io/master'\n",
    "# get the root service page\n",
    "print(json.dumps(requests.get(url).json(), indent=4))"
   ]
  },
  {
   "cell_type": "code",
   "execution_count": null,
   "metadata": {},
   "outputs": [],
   "source": [
    "# see all collections\n",
    "print(json.dumps(requests.get(f'{url}/collections').json(), indent=4))"
   ]
  },
  {
   "cell_type": "code",
   "execution_count": null,
   "metadata": {},
   "outputs": [],
   "source": [
    "# grab features from a specific collections\n",
    "print(json.dumps(requests.get(f'{url}/collections/obs/items').json(), indent=4))"
   ]
  },
  {
   "cell_type": "markdown",
   "metadata": {},
   "source": [
    "# Using OWSLib\n",
    "Let's try OWSLib's OGC API - Features support"
   ]
  },
  {
   "cell_type": "code",
   "execution_count": null,
   "metadata": {},
   "outputs": [],
   "source": [
    "from owslib.ogcapi.features import Features\n",
    "\n",
    "w = Features(url)\n",
    "w.links"
   ]
  },
  {
   "cell_type": "code",
   "execution_count": null,
   "metadata": {},
   "outputs": [],
   "source": [
    "w.url"
   ]
  },
  {
   "cell_type": "code",
   "execution_count": null,
   "metadata": {},
   "outputs": [],
   "source": [
    "w.collections()"
   ]
  },
  {
   "cell_type": "code",
   "execution_count": null,
   "metadata": {},
   "outputs": [],
   "source": [
    "features = w.collection_items('obs')"
   ]
  },
  {
   "cell_type": "code",
   "execution_count": null,
   "metadata": {},
   "outputs": [],
   "source": [
    "features['numberMatched']"
   ]
  },
  {
   "cell_type": "code",
   "execution_count": null,
   "metadata": {},
   "outputs": [],
   "source": [
    "features['numberReturned']"
   ]
  },
  {
   "cell_type": "code",
   "execution_count": null,
   "metadata": {},
   "outputs": [],
   "source": [
    "len(features['features'])"
   ]
  },
  {
   "cell_type": "code",
   "execution_count": null,
   "metadata": {},
   "outputs": [],
   "source": [
    "features"
   ]
  },
  {
   "cell_type": "markdown",
   "metadata": {},
   "source": [
    "# Using a web browser\n",
    "Check out the OGC API - Features server in your [browser](https://demo.pygeoapi.io/master).  Also take note of the [Swagger API page](https://demo.pygeoapi.io/master/openapi?f=html) which allows developers easy access and perusal of various API functionality, including testing the API as part of the interface.  Wow!"
   ]
  },
  {
   "cell_type": "markdown",
   "metadata": {},
   "source": [
    "# Using QGIS\n",
    "\n",
    "QGIS currently (2021) supports the following OGC API standards:\n",
    "\n",
    "- OGC API - Features\n",
    "- OGC API - Records"
   ]
  },
  {
   "cell_type": "markdown",
   "metadata": {},
   "source": [
    "[<- Remote data](10-remote-data.ipynb) | [Conclusion ->](12-conclusion.ipynb)"
   ]
  }
 ],
 "metadata": {
  "kernelspec": {
   "display_name": "Python 3 (ipykernel)",
   "language": "python",
   "name": "python3"
  },
  "language_info": {
   "codemirror_mode": {
    "name": "ipython",
    "version": 3
   },
   "file_extension": ".py",
   "mimetype": "text/x-python",
   "name": "python",
   "nbconvert_exporter": "python",
   "pygments_lexer": "ipython3",
   "version": "3.10.4"
  }
 },
 "nbformat": 4,
 "nbformat_minor": 2
}
