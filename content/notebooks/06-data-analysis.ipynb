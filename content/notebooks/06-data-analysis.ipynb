{
 "cells": [
  {
   "cell_type": "markdown",
   "source": [
    "# Data analysis\n",
    "\n",
    "In this lesson we treat Spatial Data Analysis, often called [Spatial Analysis](https://en.wikipedia.org/wiki/Spatial_analysis)\n",
    "or even Spatial Statistics. \n",
    "\n",
    "> Spatial analysis or spatial statistics includes any of the formal techniques which \n",
    "> study entities using their topological, geometric, or geographic properties. From [Wikipedia](https://en.wikipedia.org/wiki/Spatial_analysis). \n",
    "\n",
    "Wikipedia actually provides [a nice overview](https://en.wikipedia.org/wiki/Spatial_analysis) to give you a feel what Spatial Analysis is about.\n"
   ],
   "metadata": {}
  },
  {
   "cell_type": "markdown",
   "source": [
    "## Analysis with Fiona and Shapely\n",
    "Let's explore some of Shapely's functions for *(Topological) Spatial Relationships*.\n",
    "See simplified view below, more [on Wikipedia](https://en.wikipedia.org/wiki/Spatial_relation).\n",
    "\n",
    "![(Topological) Spatial Relationships](images/spatialrelations.png)\n",
    "*Examples of topological spatial relations - [By Krauss - Own work, CC BY-SA 3.0](https://commons.wikimedia.org/w/index.php?curid=21299138)*\n",
    "\n",
    "If you want to dive into\n",
    "a theoretical background, check out the [Dimensionally Extended nine-Intersection Model (DE-9IM)](https://en.wikipedia.org/wiki/DE-9IM).\n",
    "\n",
    "We'll start simple, answering the question: **Does the Paraná float through Argentina?**. We'll use two National Earth datasets: Rivers and lakes (LineStrings) and (Admin-0) Countries. In spatial relationship-terms: *Is  the (Multi)LineString representing the Paraná crossing the (Multi)Polygon representing Argentina?\"*\n",
    "\n",
    "We will follow these steps:\n",
    "\n",
    "* read the Rivers and Lakes dataset\n",
    "* extract the Paraná feature Geometry  \n",
    "* read the Countries dataset\n",
    "* extract the Argentina feature Geometry  \n",
    "* apply the Shapely `crosses` function\n",
    "* advanced: list all DE-9IM relations of the two geometries\n",
    "* advanced: through which countries does the Paraná float?\n"
   ],
   "metadata": {}
  },
  {
   "cell_type": "code",
   "execution_count": null,
   "source": [
    "import fiona\n",
    "from shapely.geometry import shape"
   ],
   "outputs": [],
   "metadata": {
    "pycharm": {
     "name": "#%%\n"
    }
   }
  },
  {
   "cell_type": "markdown",
   "source": [
    "### Fetch the Paraná geometry.\n"
   ],
   "metadata": {}
  },
  {
   "cell_type": "code",
   "execution_count": null,
   "source": [
    "with fiona.open(\"../data/rivers_lake_centerlines.gpkg\") as rivers_lakes:\n",
    "    for feature in rivers_lakes:\n",
    "        if feature['properties']['name'] == 'Paraná':\n",
    "            parana_geom = shape(feature[\"geometry\"])\n",
    "            print(f'Found Paraná! geom type: {parana_geom.type}')\n",
    "            break"
   ],
   "outputs": [],
   "metadata": {
    "pycharm": {
     "name": "#%%\n"
    }
   }
  },
  {
   "cell_type": "markdown",
   "source": [
    "### Fetch the Argentina geometry"
   ],
   "metadata": {}
  },
  {
   "cell_type": "code",
   "execution_count": null,
   "source": [
    "with fiona.open(\"../data/countries.json\") as countries:\n",
    "    for feature in countries:\n",
    "        if feature[\"properties\"][\"NAME\"] == \"Argentina\":\n",
    "            argentina_geom = shape(feature[\"geometry\"])\n",
    "            print(f'Found Argentina! geom type: {argentina_geom.type}')\n",
    "            break\n"
   ],
   "outputs": [],
   "metadata": {
    "pycharm": {
     "name": "#%%\n"
    }
   }
  },
  {
   "cell_type": "markdown",
   "source": [
    "### Does the Paraná float through Argentina?\n"
   ],
   "metadata": {}
  },
  {
   "cell_type": "code",
   "execution_count": null,
   "source": [
    "parana_geom.crosses(argentina_geom)\n"
   ],
   "outputs": [],
   "metadata": {
    "pycharm": {
     "name": "#%%\n"
    }
   }
  },
  {
   "cell_type": "markdown",
   "source": [
    "### List the (DE-9IM) relationship"
   ],
   "metadata": {}
  },
  {
   "cell_type": "code",
   "execution_count": null,
   "source": [
    "parana_geom.relate(argentina_geom)"
   ],
   "outputs": [],
   "metadata": {
    "pycharm": {
     "name": "#%%\n"
    }
   }
  },
  {
   "cell_type": "markdown",
   "source": [
    "### Through which countries does the Paranà float?\n"
   ],
   "metadata": {}
  },
  {
   "cell_type": "code",
   "execution_count": null,
   "source": [
    "print(\"The Paranà floats through:\")\n",
    "\n",
    "with fiona.open(\"../data/countries.gpkg\") as countries:\n",
    "    for feature in countries:\n",
    "        country_geom = shape(feature[\"geometry\"])\n",
    "        if parana_geom.crosses(country_geom):\n",
    "            print(feature[\"properties\"][\"NAME\"])\n"
   ],
   "outputs": [],
   "metadata": {
    "pycharm": {
     "name": "#%%\n"
    }
   }
  },
  {
   "cell_type": "markdown",
   "source": [
    "# Analyzing atmospheric total ozone data\n",
    "\n",
    "The [World Ozone and Ultraviolet Radiation Data Centre (WOUDC)](https://woudc.org) is one of six World Data Centres which are part of the Global Atmosphere Watch programme of the World Meteorological Organization. WOUDC provides an archive of daily total atmospheric ozone in a given column from the surface to the edge of the atmosphere.  Data is collected from a global network of monitoring stations across the world.\n",
    "\n",
    "Total ozone is measured in [Dobson units](https://en.wikipedia.org/wiki/Dobson_unit) with an acceptable range of 100 - 700 du.\n",
    "\n",
    "Let's generate a time series plot based on downloading GeoJSON data (via [WFS](https://geo.woudc.org/ows?service=WFS&version=1.1.0&request=GetFeature&outputformat=GeoJSON&typename=totalozone&filter=%3Cogc:Filter%3E%3Cogc:And%3E%3CPropertyIsEqualTo%3E%3CPropertyName%3Eplatform_id%3C/PropertyName%3E%3CLiteral%3E493%3C/Literal%3E%3C/PropertyIsEqualTo%3E%3CPropertyIsEqualTo%3E%3CPropertyName%3Eplatform_type%3C/PropertyName%3E%3CLiteral%3ESTN%3C/Literal%3E%3C/PropertyIsEqualTo%3E%3Cogc:PropertyIsBetween%3E%3Cogc:PropertyName%3Einstance_datetime%3C/ogc:PropertyName%3E%3Cogc:LowerBoundary%3E1924-01-01%2000:00:00%3C/ogc:LowerBoundary%3E%3Cogc:UpperBoundary%3E2021-12-31%2023:59:59%3C/ogc:UpperBoundary%3E%3C/ogc:PropertyIsBetween%3E%3C/ogc:And%3E%3C/ogc:Filter%3E&sortby=instance_datetime%20DESC&startindex=0&maxfeatures=200000)) of the [CNRS Rio Gallegos station 493](https://woudc.org/data/stations/?id=493&lang=en) record of the data and do some basic range checking."
   ],
   "metadata": {}
  },
  {
   "cell_type": "code",
   "execution_count": null,
   "source": [
    "from datetime import datetime\n",
    "import json\n",
    "import gzip\n",
    "\n",
    "with gzip.open('../data/totalozone-station-493.json.gz') as gzfh:\n",
    "        data = json.load(gzfh)\n",
    " \n",
    "len(data['features'])"
   ],
   "outputs": [],
   "metadata": {}
  },
  {
   "cell_type": "code",
   "execution_count": null,
   "source": [
    "# setup graph axes\n",
    "x_axis = [datetime.strptime(x['properties']['instance_datetime'], '%Y/%m/%d 00:00:00+00') for x in data['features']]\n",
    "y_axis = [float(x['properties']['daily_columno3']) for x in data['features']]\n",
    "\n",
    "# average\n",
    "total_average = sum(y_axis) / float(len(y_axis))\n",
    "total_average"
   ],
   "outputs": [],
   "metadata": {}
  },
  {
   "cell_type": "code",
   "execution_count": null,
   "source": [
    "# render simple plot\n",
    "\n",
    "from bokeh.plotting import figure, output_notebook, show\n",
    "\n",
    "# output graph to notebook\n",
    "output_notebook()\n",
    "\n",
    "p = figure(title='Bucharest 226 dobson', x_axis_type='datetime', y_axis_label='Dobson units')\n",
    "p.line(x_axis, y_axis, legend_label=\"Dobson units\", line_width=2)\n",
    "show(p)"
   ],
   "outputs": [],
   "metadata": {}
  },
  {
   "cell_type": "markdown",
   "source": [
    "Let's test whether any values fall outside the acceptable range:"
   ],
   "metadata": {}
  },
  {
   "cell_type": "code",
   "execution_count": null,
   "source": [
    "max(y_axis) > 700 or min(y_axis) < 100"
   ],
   "outputs": [],
   "metadata": {}
  },
  {
   "cell_type": "markdown",
   "source": [
    "Now let's try importing all [WOUDC stations](https://woudc.org/data/stations/) into [GeoPandas](https://geopandas.org) and do some further analysis.  First, display stations as a table grouped by WMO region:"
   ],
   "metadata": {}
  },
  {
   "cell_type": "code",
   "execution_count": null,
   "source": [
    "import geopandas\n",
    "\n",
    "d = geopandas.read_file('../data/woudc-stations.geojson')\n",
    "\n",
    "d.groupby('wmo_region').wmo_region.count()"
   ],
   "outputs": [],
   "metadata": {}
  },
  {
   "cell_type": "markdown",
   "source": [
    "Now let's plot them onto a map"
   ],
   "metadata": {}
  },
  {
   "cell_type": "code",
   "execution_count": null,
   "source": [
    "import pandas_bokeh\n",
    "\n",
    "pandas_bokeh.output_notebook()\n",
    "\n",
    "d.plot_bokeh(title='WMO WOUDC stations', xlim=[-179,179], ylim=[-89,89])"
   ],
   "outputs": [],
   "metadata": {}
  },
  {
   "cell_type": "markdown",
   "source": [
    "Let's plot only region III stations (i.e. South America)"
   ],
   "metadata": {}
  },
  {
   "cell_type": "code",
   "execution_count": null,
   "source": [
    "d[d.wmo_region.isin(['III']) == True].plot_bokeh(title='WMO WOUDC stations in WMO Region III')"
   ],
   "outputs": [],
   "metadata": {}
  },
  {
   "cell_type": "markdown",
   "source": [
    "---\n",
    "[<- Raster Data](05-raster-data.ipynb) | [Visualization ->](07-visualization.ipynb)\n"
   ],
   "metadata": {}
  },
  {
   "cell_type": "code",
   "execution_count": null,
   "source": [],
   "outputs": [],
   "metadata": {}
  }
 ],
 "metadata": {
  "kernelspec": {
   "display_name": "Python 3 (ipykernel)",
   "language": "python",
   "name": "python3"
  },
  "language_info": {
   "codemirror_mode": {
    "name": "ipython",
    "version": 3
   },
   "file_extension": ".py",
   "mimetype": "text/x-python",
   "name": "python",
   "nbconvert_exporter": "python",
   "pygments_lexer": "ipython3",
   "version": "3.8.10"
  },
  "pycharm": {
   "stem_cell": {
    "cell_type": "raw",
    "metadata": {
     "collapsed": false
    },
    "source": []
   }
  }
 },
 "nbformat": 4,
 "nbformat_minor": 2
}