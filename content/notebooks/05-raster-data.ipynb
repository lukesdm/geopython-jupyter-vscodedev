{
 "cells": [
  {
   "cell_type": "markdown",
   "metadata": {},
   "source": [
    "# Raster data"
   ]
  },
  {
   "cell_type": "markdown",
   "metadata": {},
   "source": [
    "## Introduction \n",
    "\n",
    "Raster is a type of geo-referenced data that represents phenomena occurring continuously on (or relative to) the surface of the Earth. A common example of data stored in raster format is elevation, but many other phenomena are recorded in the same way. Today many different sensors orbit the Earth on board of satellites, all collecting data in raster form.\n",
    "\n",
    "The earliest examples of raster data were aerial photographs taken on board of aircraft that were transformed into digital format. The photograph would become a matrix of geo-referenced values - the raster. \n",
    "\n",
    "![Aerial photograph](https://upload.wikimedia.org/wikipedia/commons/7/78/Podgorica_1999_Kosovo_War.jpg)\n",
    "*Image from [Wikipaedia](https://en.wikipedia.org/wiki/Aerial_photography#/media/File:Podgorica_1999_Kosovo_War.jpg)*\n",
    "\n",
    "![Satellite image](https://miro.medium.com/max/315/1*ibilH1kPEWujNaUhwM5ezA.jpeg)\n",
    "*Satellite image from [Sentinel Hub](https://www.sentinel-hub.com/blog/building-added-value-services-top-sentinel-hub)*\n",
    "\n",
    "![Digital Elevation Model](https://gisgeography.com/wp-content/uploads/2016/04/DEM-Sources-2-678x322.png)\n",
    "*Digital Elevation Model from [GISGeography.com](https://gisgeography.com/free-global-dem-data-sources/)*\n",
    "\n",
    "A raster captures a continuous phenomenon into a ***regular tessellation*** of space. Within each tile or cell of the raster the value of the phenomenon or variable of concern is constant. The location and size of each cell is perfectly known since the tessellation is regular. This process of collecting a continuous variable into a raster is sometimes referred to as ***discretisation***.\n",
    "\n",
    "![Raster](https://camo.githubusercontent.com/bf207b7f1a4bc70ae8cf652921320c6ff3a0e280/687474703a2f2f6c65732d656a6b2e637a2f736b6f6c656e692f67726173732f75766f642f5f696d616765732f7261737465722d64657461696c2d64657461696c2e706e67)\n",
    "*A matrix of values composing a raster*\n",
    "\n",
    "As many satellites carry various sensors on board, often raster files represent more than one phenomenon or variable. In essence, it is composed by more than one overlapping matrices. These individual matrices are known as ***bands***.\n",
    "\n",
    "\n",
    "![Raster bands](https://raw.githubusercontent.com/NEONScience/NEON-Data-Skills/dev-aten/graphics/hyperspectral-general/RGBSTack_1.jpg)\n",
    "*Three visible bands from a satellite can be combined into a colour image. Source: [Neon Science](https://www.neonscience.org/dc-multiband-rasters-r)*"
   ]
  },
  {
   "cell_type": "markdown",
   "metadata": {},
   "source": [
    "## Tools\n",
    "\n",
    "[GDAL](https://gdal.org/) is today the reference toolbox to read and write raster data. It is used by almost all of the FOSS4G programmes and libraries that interact with rasters. GDAL is also used by many commercial products. A [Python API](https://gdal.org/python/) is available for GDAL that provides much of the functionality.\n",
    "\n",
    "The [RasterIO](https://rasterio.readthedocs.io) library makes interaction with rasters considerably more convenient, however. It is in essence a bridge between GDAL and the [NumPy](https://numpy.org/) package for scientific computing. With RasterIO rasters are easily translated into NumPy arrays and vice-versa."
   ]
  },
  {
   "cell_type": "markdown",
   "metadata": {},
   "source": [
    "## Reading in and inspecting a raster\n",
    "\n",
    "Possibly the most essential operation is to open a raster for processing or inspection. This is rather simple:\n",
    "\n"
   ]
  },
  {
   "cell_type": "code",
   "execution_count": null,
   "metadata": {},
   "outputs": [],
   "source": [
    "import rasterio"
   ]
  },
  {
   "cell_type": "code",
   "execution_count": null,
   "metadata": {},
   "outputs": [],
   "source": [
    "world = rasterio.open('../data/world.rgb.tif')"
   ]
  },
  {
   "cell_type": "markdown",
   "metadata": {},
   "source": [
    "The `open` method returns an object of the class `DatasetReader`, which contains the raster meta-data and the set of bands included. `open` can also be invoked in write mode (with the extra argument `'w'`), in which case it returns a `DatasetWriter` type object.\n",
    "\n",
    "`DatasetReader` provides easy access to useful meta-data, for instance the raster dimensions:"
   ]
  },
  {
   "cell_type": "code",
   "execution_count": null,
   "metadata": {},
   "outputs": [],
   "source": [
    "world.width"
   ]
  },
  {
   "cell_type": "code",
   "execution_count": null,
   "metadata": {},
   "outputs": [],
   "source": [
    "world.height"
   ]
  },
  {
   "cell_type": "markdown",
   "metadata": {},
   "source": [
    "Also information related to the reader object itself:"
   ]
  },
  {
   "cell_type": "code",
   "execution_count": null,
   "metadata": {},
   "outputs": [],
   "source": [
    "world.name"
   ]
  },
  {
   "cell_type": "code",
   "execution_count": null,
   "metadata": {},
   "outputs": [],
   "source": [
    "world.mode"
   ]
  },
  {
   "cell_type": "code",
   "execution_count": null,
   "metadata": {},
   "outputs": [],
   "source": [
    "world.meta"
   ]
  },
  {
   "cell_type": "code",
   "execution_count": null,
   "metadata": {},
   "outputs": [],
   "source": [
    "world.shape"
   ]
  },
  {
   "cell_type": "markdown",
   "metadata": {},
   "source": [
    "The `count` property informs on the number of bands:"
   ]
  },
  {
   "cell_type": "code",
   "execution_count": null,
   "metadata": {},
   "outputs": [],
   "source": [
    "world.count"
   ]
  },
  {
   "cell_type": "markdown",
   "metadata": {},
   "source": [
    "Data types of bands are provided with `dtypes`:"
   ]
  },
  {
   "cell_type": "code",
   "execution_count": null,
   "metadata": {},
   "outputs": [],
   "source": [
    "world.dtypes"
   ]
  },
  {
   "cell_type": "markdown",
   "metadata": {},
   "source": [
    "The geographic information is also available:"
   ]
  },
  {
   "cell_type": "code",
   "execution_count": null,
   "metadata": {},
   "outputs": [],
   "source": [
    "world.crs"
   ]
  },
  {
   "cell_type": "code",
   "execution_count": null,
   "metadata": {},
   "outputs": [],
   "source": [
    "world.bounds"
   ]
  },
  {
   "cell_type": "markdown",
   "metadata": {},
   "source": [
    "## Basic raster plotting"
   ]
  },
  {
   "cell_type": "markdown",
   "metadata": {},
   "source": [
    "We can display the raster with a single line:"
   ]
  },
  {
   "cell_type": "code",
   "execution_count": null,
   "metadata": {},
   "outputs": [],
   "source": [
    "%matplotlib inline\n",
    "from rasterio import plot\n",
    "plot.show(world)"
   ]
  },
  {
   "cell_type": "markdown",
   "metadata": {},
   "source": [
    "We can also display a single band of a multiband image by passing a tuple (raster source, band):"
   ]
  },
  {
   "cell_type": "code",
   "execution_count": null,
   "metadata": {},
   "outputs": [],
   "source": [
    "plot.show((world, 2), cmap='viridis')"
   ]
  },
  {
   "cell_type": "markdown",
   "metadata": {},
   "source": [
    "Multiple bands side by side:"
   ]
  },
  {
   "cell_type": "code",
   "execution_count": null,
   "metadata": {},
   "outputs": [],
   "source": [
    "from matplotlib import pyplot as plt\n",
    "\n",
    "fig, (axr, axg, axb) = plt.subplots(1,3, figsize=(21,7))\n",
    "plot.show((world, 1), ax=axr, cmap='Reds', title='red channel')\n",
    "plot.show((world, 2), ax=axg, cmap='Greens', title='green channel')\n",
    "plot.show((world, 3), ax=axb, cmap='Blues', title='blue channel')"
   ]
  },
  {
   "cell_type": "markdown",
   "metadata": {},
   "source": [
    "If we want to see a histogram of the data we use the `plot.show_hist` function:"
   ]
  },
  {
   "cell_type": "code",
   "execution_count": null,
   "metadata": {},
   "outputs": [],
   "source": [
    "%matplotlib inline\n",
    "plot.show_hist(world)"
   ]
  },
  {
   "cell_type": "markdown",
   "metadata": {},
   "source": [
    "Any of the optional `pyplot` histogram parameters can be passed to `show_hist` to tweak the representation:"
   ]
  },
  {
   "cell_type": "code",
   "execution_count": null,
   "metadata": {
    "scrolled": true
   },
   "outputs": [],
   "source": [
    "plot.show_hist(world, bins=50, lw=0.0, stacked=False, alpha=0.3, \n",
    "               histtype='stepfilled', title='World Histogram overlaid')"
   ]
  },
  {
   "cell_type": "markdown",
   "metadata": {},
   "source": [
    "Something also fairly easy to achieve with `matplotlib` is to render contours from a raster:"
   ]
  },
  {
   "cell_type": "code",
   "execution_count": null,
   "metadata": {},
   "outputs": [],
   "source": [
    "fig, ax = plt.subplots(1, figsize=(12, 12))\n",
    "plot.show((world, 1), cmap='Greys_r', interpolation='none', ax=ax)\n",
    "ax.set_xlim(-50, 0)\n",
    "ax.set_ylim(0, 40)\n",
    "\n",
    "plot.show((world, 1), contour=True, ax=ax)"
   ]
  },
  {
   "cell_type": "markdown",
   "metadata": {},
   "source": [
    "## Creating a new raster"
   ]
  },
  {
   "cell_type": "markdown",
   "metadata": {},
   "source": [
    "For raster analysis or processing, rasterIO offers a convinient bridge to NumPy. In this example a new raster is computed from an existing digital elevation model (DEM). The first step is to open the raster:"
   ]
  },
  {
   "cell_type": "code",
   "execution_count": null,
   "metadata": {},
   "outputs": [],
   "source": [
    "srtm = rasterio.open('../data/srtm/srtm.geotiff')"
   ]
  },
  {
   "cell_type": "markdown",
   "metadata": {},
   "source": [
    "The `read` method provides the means to actually access the information in the raster. It takes as argument the band number and returns a NumPy [NDArray](https://docs.scipy.org/doc/numpy/reference/generated/numpy.ndarray.html) object:"
   ]
  },
  {
   "cell_type": "code",
   "execution_count": null,
   "metadata": {},
   "outputs": [],
   "source": [
    "import numpy as np\n",
    "srtm_array = srtm.read(1)\n",
    "srtm_array"
   ]
  },
  {
   "cell_type": "markdown",
   "metadata": {},
   "source": [
    "This is a tile from the digital elevation model produced by the [Shuttle Radio Topography Mission](https://www2.jpl.nasa.gov/srtm/). Having now a NDArray, the [matplotlib](https://matplotlib.org/) library can be used directly to plot its contents. Note that this way there is no geographic information in the plot: "
   ]
  },
  {
   "cell_type": "code",
   "execution_count": null,
   "metadata": {},
   "outputs": [],
   "source": [
    "from matplotlib import pyplot\n",
    "pyplot.imshow(srtm_array, cmap='viridis')\n",
    "pyplot.show()"
   ]
  },
  {
   "cell_type": "markdown",
   "metadata": {},
   "source": [
    "With a raster band encapsulated into an array, map algebra and analysis in general become rather simple. As an example, consider the high pass filter defined by the moving window below:\n",
    "\n",
    "![High-pass filter](./images/HighPassFilter.png)\n",
    "\n",
    "This is a typical operation in digital imaging processing that also finds application in raster analysis. Applying this moving window to a NumPy array requires the following:"
   ]
  },
  {
   "cell_type": "code",
   "execution_count": null,
   "metadata": {},
   "outputs": [],
   "source": [
    "high_pass_array = np.full(srtm_array.shape, 0).astype(np.int16)\n",
    "\n",
    "for i in range (1, srtm_array.shape[0] - 1):\n",
    "    for j in range (1, srtm_array.shape[1] - 1):\n",
    "        high_pass_array[i,j] = \\\n",
    "            srtm_array[i,j] * 4 - \\\n",
    "            srtm_array[i-1,j] - \\\n",
    "            srtm_array[i,j+1] - \\\n",
    "            srtm_array[i,j-1] - \\\n",
    "            srtm_array[i+1,j]\n",
    "            \n",
    "high_pass_array"
   ]
  },
  {
   "cell_type": "markdown",
   "metadata": {},
   "source": [
    "Before saving the result, matplotlib can be used again to inspect the results:"
   ]
  },
  {
   "cell_type": "code",
   "execution_count": null,
   "metadata": {},
   "outputs": [],
   "source": [
    "pyplot.imshow(high_pass_array, cmap='seismic')\n",
    "pyplot.show()"
   ]
  },
  {
   "cell_type": "markdown",
   "metadata": {},
   "source": [
    "The high pass filter highlights transitions (the blue and red cells in the raster above). Since the input is a DEM, in this case the high pass filter shows the cells with steepest slope.\n",
    "\n",
    "This new raster is still just an array. In order to save it (or use it in general) as a geo-referenced object, a new `Dataset` object must be created. This can be made with the `open` method in write mode, i.e. using the `'w'` argument:"
   ]
  },
  {
   "cell_type": "code",
   "execution_count": null,
   "metadata": {},
   "outputs": [],
   "source": [
    "high_pass = rasterio.open(\n",
    "    '../data/srtm/srtm_high_pass.geotiff',\n",
    "    'w',\n",
    "    driver='GTiff',\n",
    "    height=high_pass_array.shape[0],\n",
    "    width=high_pass_array.shape[1],\n",
    "    count=1,\n",
    "    dtype=str(high_pass_array.dtype),\n",
    "    crs=srtm.crs,\n",
    "    transform=srtm.transform\n",
    ")"
   ]
  },
  {
   "cell_type": "markdown",
   "metadata": {},
   "source": [
    "In write mode `open` needs some more information. The number of rows and columns, plus the data type, are passed from the array object itself. The CRS information is obtained from the original `srtm` object. Only the content of the cells in the new raster is different, the location and size remain the same. \n",
    "\n",
    "`open` created a connection to a new raster file and returned an object of type `RasterUpdater`. With this object the contents of the new array can be copied into the file:\n"
   ]
  },
  {
   "cell_type": "code",
   "execution_count": null,
   "metadata": {},
   "outputs": [],
   "source": [
    "high_pass.write(high_pass_array, 1)"
   ]
  },
  {
   "cell_type": "markdown",
   "metadata": {},
   "source": [
    "The `write` method takes as arguments the NumPy array with the cell contents and the band number in the raster. In this case `1` is used for the band number, as there is only one.\n",
    "\n",
    "To flush the file into the hard disk the `close` method is used:"
   ]
  },
  {
   "cell_type": "code",
   "execution_count": null,
   "metadata": {},
   "outputs": [],
   "source": [
    "high_pass.close()"
   ]
  },
  {
   "cell_type": "markdown",
   "metadata": {},
   "source": [
    "---\n",
    "[<- Vector data](04-vector-data.ipynb) | [Data analysis ->](06-data-analysis.ipynb)"
   ]
  }
 ],
 "metadata": {
  "@webio": {
   "lastCommId": "F6610E5803C146D98098EE9BC6BF4360",
   "lastKernelId": "fe2a3598-36df-489e-aaef-b41220a8184e"
  },
  "kernelspec": {
   "display_name": "Python 3 (ipykernel)",
   "language": "python",
   "name": "python3"
  },
  "language_info": {
   "codemirror_mode": {
    "name": "ipython",
    "version": 3
   },
   "file_extension": ".py",
   "mimetype": "text/x-python",
   "name": "python",
   "nbconvert_exporter": "python",
   "pygments_lexer": "ipython3",
   "version": "3.8.10"
  }
 },
 "nbformat": 4,
 "nbformat_minor": 2
}
