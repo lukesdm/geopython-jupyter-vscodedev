{
 "cells": [
  {
   "cell_type": "markdown",
   "metadata": {},
   "source": [
    "# Vector data\n",
    "This lesson will cover Vector data, giving some theoretical background, introduce\n",
    "Vector storage formats and finally explore Python libraries for Vector data access and manipulation.\n",
    "\n",
    "## Background reading\n",
    "\n",
    "* https://docs.qgis.org/3.16/en/docs/gentle_gis_introduction/vector_data.html\n",
    "\n",
    "## What is vector data?\n",
    "Vector data is spatial data, generally consisting of two parts: \n",
    "\n",
    "* Geometry\n",
    "* Attributes\n",
    "\n",
    "**Geometries** are the *Points, Lines and Polygons* as introduced in the [Geometries Lesson](02-geometry.ipynb).\n",
    "They represent the \"shape\" of the real-world phenomenon. \n",
    "**Attribute** data is information appended to the Geometry (or the other way around) \n",
    "usually in tabular format (\"records\"). Together, this combination Geometry+Attributes \n",
    "is often called a (Spatial) **Feature**.\n",
    "\n",
    "![Vector Data in QGIS](images/qgis-attr-table.png)\n",
    "\n",
    "A [Triangulated Irregular network (TIN)](https://en.wikipedia.org/wiki/Triangulated_irregular_network) \n",
    "is also an example of Vector data."
   ]
  },
  {
   "cell_type": "markdown",
   "metadata": {},
   "source": [
    "## Vector data formats\n",
    "There are currently [over 100 vector data formats](https://gdal.org/drivers/vector/index.html) used for storage, e.g. files, and for data transfer.\n",
    "The most common formats are presented below. \n",
    "\n",
    "> Tip: [ogr2ogr](https://gdal.org/programs/ogr2ogr.html) is a GDAL/OGR commandline utility\n",
    "> that allows you to convert between most vector formats.  \n",
    "\n",
    "### ESRI Shapefile\n",
    "\n",
    "[ESRI Shapefile](https://en.wikipedia.org/wiki/Shapefile) is a file-based format. It consists of at least 3 files:\n",
    "\n",
    "* `.shp` containing geometry\n",
    "* `.shx` containing index\n",
    "* `.dbf` attribute table\n",
    "\n",
    "The ESRI Shapefile is one of the oldest formats, some even call it a [Curse in Geoinformatics](https://www.slideshare.net/jachym/switch-from-shapefile), and is more and more replaced by GeoPackage.\n",
    "\n",
    "### GeoPackage\n",
    "\n",
    "[GeoPackage](https://www.geopackage.org/) is a relatively new but promising spatial data format based on [SQLite](https://www.sqlite.org).\n",
    "\n",
    "The [OGC GeoPackage Encoding Standard](https://www.opengeospatial.org/standards/geopackage) describes a set of conventions for storing the following \n",
    "within an SQLite database:\n",
    "  \n",
    "* vector features\n",
    "* tile matrix sets of imagery and raster maps at various scales\n",
    "* attributes (non-spatial data)\n",
    "* extensions\n",
    "  \n",
    "Thus GeoPackage can store vector as well as raster data. GeoPackage is by some called \"The Shapefile Killer\".\n",
    "We recommend using GeoPackage over ESRI Shapefile.\n",
    "\n",
    "### GeoJSON\n",
    "\n",
    "[GeoJSON](https://geojson.org) is a simple JSON-based format to encode vector Features. \n",
    "It is increasingly popular, especially among web developers. \n",
    "\n",
    "Example:\n",
    "\n",
    "```\n",
    "{\n",
    "  \"type\": \"Feature\",\n",
    "  \"geometry\": {\n",
    "    \"type\": \"Point\",\n",
    "    \"coordinates\": [125.6, 10.1]\n",
    "  },\n",
    "  \"properties\": {\n",
    "    \"name\": \"Dinagat Islands\"\n",
    "    \"population\": 4785\n",
    "  }\n",
    "}\n",
    "```\n",
    "\n",
    "GitHub for example is able to display [GeoJSON-encoded data on-the-fly](https://github.com/jachym/jrdata/blob/master/jsons/stops.geojson). Note that coordinates are always in \"easting, northing\", thus longitude, latitude here. Note: the use of alternative coordinate reference systems was\n",
    "removed from an earlier version of the [GeoJSON specification](https://datatracker.ietf.org/doc/html/rfc7946). However: \"*...where all involved parties have a prior arrangement, alternative coordinate reference systems can be used without risk of data being misinterpreted.*\"\n",
    "\n",
    "### Geography Markup Language (GML)\n",
    "\n",
    "> The Geography Markup Language (GML) is the XML grammar defined by the Open Geospatial Consortium (OGC) \n",
    "> to express geographical features. GML serves as a modeling language for geographic \n",
    "> systems as well as an open interchange format for geographic transactions on the Internet. Source: [Wikipedia](https://en.wikipedia.org/wiki/Geography_Markup_Language).\n",
    "\n",
    "Below an example of the same feature we saw earlier as GeoJSON, now in GML:\n",
    "\n",
    "```\n",
    "<gml:featureMember>\n",
    "  <feature fid=\"12\">\n",
    "\t<id>23</id>\n",
    "\t<name>Dinagat Islands</name>\n",
    "\t<population>4785</population>\n",
    "\t<ogr:geometry>\n",
    "\t  <gml:Point gml:id=\"p21\" srsName=\"http://www.opengis.net/def/crs/EPSG/0/4326\">\n",
    "        <gml:pos srsDimension=\"2\">125.6, 10.1</gml:pos>\n",
    "      </gml:Point>\n",
    "\t</ogr:geometry>\n",
    "  </feature>\n",
    "</gml:featureMember>\n",
    "```\n",
    "\n",
    "GML is defined as a joint ISO-OGC Standard:\n",
    "\n",
    "> ISO 19136 Geographic information – Geography Markup Language, is a standard from the family \n",
    "> ISO/TC 211 standards for geographic information (ISO 191xx). It resulted from unification \n",
    "> of the Open Geospatial Consortium definitions and Geography Markup Language (GML) with \n",
    "> the ISO-191xx standards. Source: [Wikipedia](https://en.wikipedia.org/wiki/Geography_Markup_Language)\n",
    "\n",
    "*GML Application Schemas* adds a convention to the GML standard to define domain- or community- specific application\n",
    "models. Examples are [CityGML](https://en.wikipedia.org/wiki/CityGML) and schemas developed within [INSPIRE](https://inspire.ec.europa.eu/applicationschema).\n",
    "\n",
    "GML sees quite widespread use, but due to its complexity (e.g. multiple encodings for coordinates and projections) and verbosity, is more and more\n",
    "replaced by GeoJSON.\n",
    "\n",
    "### CSV\n",
    "\n",
    "Of course, you  can save your data in a comma separated values text file.\n",
    "\n",
    "### PostgreSQL/PostGIS database\n",
    "\n",
    "[PostGIS](https://postgis.net) adds support for geographic objects to the PostgreSQL object-relational database. \n",
    "In effect, PostGIS \"spatially enables\" the PostgreSQL server, allowing it to be \n",
    "used as a backend spatial database for geographic information systems (GIS), \n",
    "much like ESRI's SDE or Oracle's Spatial extension. \n",
    "PostGIS follows the OGC [Simple Features Specification for SQL](https://www.opengeospatial.org/standards/sfs) \n",
    "and has been certified as compliant with the \"Types and Functions\" profile. \n",
    "\n",
    "Like said, there are [many more vector formats](https://gdal.org/drivers/vector/index.html).\n",
    "\n",
    "## Vector libraries\n",
    "Within Python there is an ample choice of libraries to interact with vector data. The\n",
    "most popular are:\n",
    "\n",
    "* [Python bindings](https://gdal.org/python/) for [GDAL OGR](https://gdal.org/), a.k.a. \"OGR\"\n",
    "* [Fiona](https://toblerity.org/fiona/manual.html) \n",
    "* [GeoPandas](https://geopandas.org/) \n",
    " \n",
    "This chapter will first focus on Fiona and OGR, ending with GeoPandas.\n",
    "[Fiona](https://toblerity.org/fiona/) is maintained by [Sean Gillies](https://github.com/sgillies) and adds a utility/wrapper layer on top of OGR in a Pythonic fashion.\n",
    "Compared to Fiona, OGR (Python bindings) provides more finegrained control over data, for example reprojections,\n",
    "and supports all GDAL/OGR vector formats."
   ]
  },
  {
   "cell_type": "markdown",
   "metadata": {},
   "source": [
    "## Manipulating features with Fiona and Shapely\n",
    "Fiona and Shapely are often used together.\n",
    "Here we use Fiona \n",
    "to read Vector data (Features) into memory for subsequent manipulation with Shapely.\n",
    "\n",
    "Feature geometry can be accessed using the `geometry` property of each feature. For example\n",
    "we can open the dataset that contains a (Multi)Polygon for each country and print\n",
    "out the geometry of a random Feature (country):\n",
    "\n",
    "First we import `Shapely` and its functions and then convert the JSON-encoded geometries to Geometry objects\n",
    "using the `shape` function."
   ]
  },
  {
   "cell_type": "code",
   "execution_count": null,
   "metadata": {
    "pycharm": {
     "name": "#%%\n"
    }
   },
   "outputs": [],
   "source": [
    "import fiona\n",
    "from shapely.geometry import shape"
   ]
  },
  {
   "cell_type": "markdown",
   "metadata": {},
   "source": [
    "Next we open a GeoPackage `countries` file and loop through the Features.\n",
    "You may observe the Pythonism that Fiona supplies (using `with` and `as`) to\n",
    "open and loop through Features in a single step.\n",
    "\n",
    "  > NB the countries-file has its geometries in SRS/CRS EPSG:3857, also known as the\n",
    "  > [Web Mercator Projection](https://en.wikipedia.org/wiki/Web_Mercator_projection). That projection is\n",
    "  > in meters, hence values like `area` are in meters as well."
   ]
  },
  {
   "cell_type": "code",
   "execution_count": null,
   "metadata": {
    "pycharm": {
     "name": "#%%\n"
    }
   },
   "outputs": [],
   "source": [
    "with fiona.open(\"../data/countries.3857.gpkg\") as countries:\n",
    "\tcountry = countries[4]\n",
    "\tprint(f'This is {country[\"properties\"][\"NAME\"]}')\n",
    "\tgeom = shape(country[\"geometry\"])\n",
    "  \n",
    "geom # Jupyter can display geometry data directly"
   ]
  },
  {
   "cell_type": "code",
   "execution_count": null,
   "metadata": {
    "pycharm": {
     "name": "#%%\n"
    }
   },
   "outputs": [],
   "source": [
    "print(geom.type)"
   ]
  },
  {
   "cell_type": "code",
   "execution_count": null,
   "metadata": {
    "pycharm": {
     "name": "#%%\n"
    }
   },
   "outputs": [],
   "source": [
    "print(geom.area)"
   ]
  },
  {
   "cell_type": "code",
   "execution_count": null,
   "metadata": {
    "pycharm": {
     "name": "#%%\n"
    }
   },
   "outputs": [],
   "source": [
    "# In km\n",
    "print(geom.length / 1000)"
   ]
  },
  {
   "cell_type": "markdown",
   "metadata": {},
   "source": [
    "Let's have a look at some geometry methods. \n",
    "Tip: Shapely code is well-documented, you can always use the Python built-in `help()` function."
   ]
  },
  {
   "cell_type": "code",
   "execution_count": null,
   "metadata": {
    "pycharm": {
     "name": "#%%\n"
    }
   },
   "outputs": [],
   "source": [
    "help(geom)"
   ]
  },
  {
   "cell_type": "markdown",
   "metadata": {},
   "source": [
    "For example we can make a buffer of 500 meter around our polygon (making Canada somewhat bigger):"
   ]
  },
  {
   "cell_type": "code",
   "execution_count": null,
   "metadata": {
    "pycharm": {
     "name": "#%%\n"
    }
   },
   "outputs": [],
   "source": [
    "buffered_geom = geom.buffer(500)\n",
    "buffered_geom"
   ]
  },
  {
   "cell_type": "code",
   "execution_count": null,
   "metadata": {
    "pycharm": {
     "name": "#%%\n"
    }
   },
   "outputs": [],
   "source": [
    "# In km\n",
    "buffered_geom.length / 1000"
   ]
  },
  {
   "cell_type": "markdown",
   "metadata": {},
   "source": [
    "We can also create geometry from scratch using various functions in `shapely` as follows"
   ]
  },
  {
   "cell_type": "code",
   "execution_count": null,
   "metadata": {},
   "outputs": [],
   "source": [
    "from shapely.geometry import Polygon,Point,LineString\n",
    "pt = Point(10,10)\n",
    "line = LineString([(0,0),(0,3),(3,0)])\n",
    "poly = Polygon([[0, 0], [1, 0], [1, 1], [0, 1], [0, 0]])"
   ]
  },
  {
   "cell_type": "code",
   "execution_count": null,
   "metadata": {},
   "outputs": [],
   "source": [
    "pt"
   ]
  },
  {
   "cell_type": "code",
   "execution_count": null,
   "metadata": {},
   "outputs": [],
   "source": [
    "line"
   ]
  },
  {
   "cell_type": "code",
   "execution_count": null,
   "metadata": {},
   "outputs": [],
   "source": [
    "poly"
   ]
  },
  {
   "cell_type": "markdown",
   "metadata": {},
   "source": [
    "#### Geospatial analysis using shapely"
   ]
  },
  {
   "cell_type": "code",
   "execution_count": null,
   "metadata": {},
   "outputs": [],
   "source": [
    "poly.touches(line)"
   ]
  },
  {
   "cell_type": "code",
   "execution_count": null,
   "metadata": {},
   "outputs": [],
   "source": [
    "poly.contains(pt)"
   ]
  },
  {
   "cell_type": "code",
   "execution_count": null,
   "metadata": {},
   "outputs": [],
   "source": [
    "pt.buffer(20).contains(poly)"
   ]
  },
  {
   "cell_type": "markdown",
   "metadata": {},
   "source": [
    "### Converting the geometry back to JSON format\n",
    "Once we are finished, we can convert the geometry back to JSON format using `shapely.geometry.mapping` function\n"
   ]
  },
  {
   "cell_type": "code",
   "execution_count": null,
   "metadata": {
    "pycharm": {
     "name": "#%%\n"
    }
   },
   "outputs": [],
   "source": [
    "from shapely.geometry import mapping"
   ]
  },
  {
   "cell_type": "code",
   "execution_count": null,
   "metadata": {
    "pycharm": {
     "name": "#%%\n"
    }
   },
   "outputs": [],
   "source": [
    "# let's create new GeoJSON-encoded vector feature\n",
    "\n",
    "new_feature = {\n",
    "    'type': 'Feature',\n",
    "    'properties': {\n",
    "        'name': 'My buffered feature'\n",
    "    },\n",
    "    'geometry': mapping(buffered_geom)\n",
    "}\n",
    "new_feature\n",
    "\n",
    "# Now we could e.g. write the Feature back to file"
   ]
  },
  {
   "cell_type": "markdown",
   "metadata": {},
   "source": [
    "## GDAL/OGR Python Bindings\n",
    "\n",
    "\n",
    "[OGR](https://gdal.org/faq.html#what-is-this-ogr-stuff) is part of the [GDAL](https://gdal.org/) library for the support of Vector data. \n",
    "OGR supports about [100+ vector formats](https://gdal.org/drivers/vector/index.html) and\n",
    "has more/other functionalities (than Fiona) like reprojection.\n",
    "\n",
    "The OGR API wraps differences between various vector formats, web-services, database etc..\n",
    "The following terminology applies to OGR:\n",
    "\n",
    "* **Driver** - driver for reading and writing for a specified format\n",
    "* **Data Source** - the named data source (file, database, web-service, ...)\n",
    "* **Layer** - data layer within the Data Source (file content, database table, ...)\n",
    "* **Feature** - vector feature\n",
    "* **Field, Geometry** - attributes and geometry\n",
    "\n",
    "The OGR-Python interface is an abstract API on top of the \n",
    "original classes and methods of the original C++ code. \n",
    "Because of this, some approaches may seem complicated, \n",
    "compared to native Python code, like e.g. Fiona.\n",
    "\n",
    "### Links\n",
    "\n",
    "* GDAL OGR Vector API tutorial: https://gdal.org/tutorials/vector_api_tut.html\n",
    "* Python API: https://gdal.org/python/\n",
    "* GDAL/OGR Python Cookbook https://pcjericks.github.io/py-gdalogr-cookbook/ - Recommended!"
   ]
  },
  {
   "cell_type": "markdown",
   "metadata": {},
   "source": [
    "### Buffer\n",
    "First we need to open the *Data Source*, printing the number of Layers."
   ]
  },
  {
   "cell_type": "code",
   "execution_count": null,
   "metadata": {
    "pycharm": {
     "name": "#%%\n"
    }
   },
   "outputs": [],
   "source": [
    "from osgeo import ogr\n",
    "ds = ogr.Open('../data/countries.gpkg')\n",
    "print(ds)\n",
    "print(ds.GetLayerCount())"
   ]
  },
  {
   "cell_type": "markdown",
   "metadata": {},
   "source": [
    "Next we have to fetch and open the *Layer*. NB for files, there is usually just one layer, index `0`, \n",
    "within the Data Source (DS), but for example for a database DS, a Layer is refers to a concrete table)."
   ]
  },
  {
   "cell_type": "code",
   "execution_count": null,
   "metadata": {
    "pycharm": {
     "name": "#%%\n"
    }
   },
   "outputs": [],
   "source": [
    "l = ds.GetLayer(0)\n",
    "print(l)\n",
    "print(l.GetFeatureCount())"
   ]
  },
  {
   "cell_type": "markdown",
   "metadata": {},
   "source": [
    "Show the schema of the layer and the definition of its geometry type:"
   ]
  },
  {
   "cell_type": "code",
   "execution_count": null,
   "metadata": {
    "pycharm": {
     "name": "#%%\n"
    }
   },
   "outputs": [],
   "source": [
    "l.GetGeomType()"
   ]
  },
  {
   "cell_type": "code",
   "execution_count": null,
   "metadata": {
    "pycharm": {
     "name": "#%%\n"
    }
   },
   "outputs": [],
   "source": [
    "l.GetGeomType() == ogr.wkbMultiPolygon"
   ]
  },
  {
   "cell_type": "code",
   "execution_count": null,
   "metadata": {
    "pycharm": {
     "name": "#%%\n"
    }
   },
   "outputs": [],
   "source": [
    "for s in l.schema:\n",
    "    print(s.GetName())"
   ]
  },
  {
   "cell_type": "code",
   "execution_count": null,
   "metadata": {
    "pycharm": {
     "name": "#%%\n"
    }
   },
   "outputs": [],
   "source": [
    "l.schema[4].name"
   ]
  },
  {
   "cell_type": "markdown",
   "metadata": {},
   "source": [
    "Print name attribute of all features"
   ]
  },
  {
   "cell_type": "code",
   "execution_count": null,
   "metadata": {
    "pycharm": {
     "name": "#%%\n"
    }
   },
   "outputs": [],
   "source": [
    "features_nr = l.GetFeatureCount()\n",
    "for i in range(features_nr):\n",
    "    f = l.GetNextFeature()\n",
    "    print(f.GetField('NAME'))"
   ]
  },
  {
   "cell_type": "markdown",
   "metadata": {},
   "source": [
    "Get vector feature bounding box (envelope):"
   ]
  },
  {
   "cell_type": "code",
   "execution_count": null,
   "metadata": {
    "pycharm": {
     "name": "#%%\n"
    }
   },
   "outputs": [],
   "source": [
    "f = l.GetFeature(4)\n",
    "geom = f.GetGeometryRef()\n",
    "geom.GetEnvelope()"
   ]
  },
  {
   "cell_type": "markdown",
   "metadata": {},
   "source": [
    "Get geometry centroid"
   ]
  },
  {
   "cell_type": "code",
   "execution_count": null,
   "metadata": {
    "pycharm": {
     "name": "#%%\n"
    }
   },
   "outputs": [],
   "source": [
    "c = geom.Centroid()\n",
    "c.GetPoint()"
   ]
  },
  {
   "cell_type": "markdown",
   "metadata": {},
   "source": [
    "Get geometry buffer"
   ]
  },
  {
   "cell_type": "code",
   "execution_count": null,
   "metadata": {
    "pycharm": {
     "name": "#%%\n"
    }
   },
   "outputs": [],
   "source": [
    "buff = c.Buffer(100)\n",
    "geom.Intersects(buff)"
   ]
  },
  {
   "cell_type": "markdown",
   "metadata": {},
   "source": [
    "### Complete example\n",
    "\n",
    "In this example we will demonstrate working with vector data from begin to\n",
    "end: open a data set, metadata, attribute change, saving of new attribute \n",
    "back to the file. "
   ]
  },
  {
   "cell_type": "code",
   "execution_count": null,
   "metadata": {
    "pycharm": {
     "name": "#%%\n"
    }
   },
   "outputs": [],
   "source": [
    "from osgeo import osr\n",
    "\n",
    "# Creating new file with new driver\n",
    "drv = ogr.GetDriverByName('GML')\n",
    "ds = drv.CreateDataSource('../data/04-ogr-out.gml')\n",
    "srs = osr.SpatialReference()\n",
    "srs.ImportFromEPSG(3857)\n",
    "print(srs.ExportToProj4())\n",
    "layer = ds.CreateLayer('outgml', srs, ogr.wkbLineString)\n",
    "\n",
    "# create new attributes named and code\n",
    "field_name = ogr.FieldDefn('name', ogr.OFTString)\n",
    "field_name.SetWidth(24)\n",
    "field_number = ogr.FieldDefn('code', ogr.OFTInteger)\n",
    "layer.CreateField(field_name)\n",
    "layer.CreateField(field_number)\n",
    "\n",
    "# create new line geometry and read from WKT\n",
    "line = ogr.CreateGeometryFromWkt('LINESTRING(%f %f, %f %f)' % (0, 0, 1, 1))\n",
    "\n",
    "# create new feature, set attributes and geometry\n",
    "feature = ogr.Feature(layer.GetLayerDefn())\n",
    "feature.SetGeometry(line)\n",
    "feature.SetField('name', 'the line')\n",
    "feature.SetField('code', 42)\n",
    "\n",
    "layer.CreateFeature(feature)\n",
    "\n",
    "# final cleaning\n",
    "feature.Destroy()\n",
    "ds.Destroy()"
   ]
  },
  {
   "cell_type": "markdown",
   "metadata": {},
   "source": [
    "now we can check the result"
   ]
  },
  {
   "cell_type": "code",
   "execution_count": null,
   "metadata": {
    "pycharm": {
     "name": "#%%\n"
    }
   },
   "outputs": [],
   "source": [
    "ds = ogr.Open('../data/04-ogr-out.gml')\n",
    "layer = ds.GetLayer(0)\n",
    "print(layer.GetFeatureCount())\n",
    "print(layer.GetFeature(0).GetField('name'))\n",
    "print(layer.GetFeature(0).GetField('code'))\n",
    "ds.Destroy()"
   ]
  },
  {
   "cell_type": "markdown",
   "metadata": {
    "pycharm": {
     "name": "#%% md\n"
    }
   },
   "source": [
    "## Fiona or GDAL/OGR?\n",
    "With Fiona, the above example would be much simpler and Pythonic. \n",
    "However, OGR accesses the data on a much lower/efficient level compared to Fiona, \n",
    "therefore bigger datasets can be more easily handled. Also OGR supports more data formats and\n",
    "functionality like reprojection.\n",
    "\n",
    "We recommend to have both Fiona (plus Shapely) and OGR in your toolbox\n",
    "and assess at project-time which to apply."
   ]
  },
  {
   "cell_type": "markdown",
   "metadata": {},
   "source": [
    "## Introduction to GeoPandas"
   ]
  },
  {
   "cell_type": "markdown",
   "metadata": {},
   "source": [
    "Geospatial data is often available from specific GIS file formats or data stores, like ESRI Shapefiles, GeoJSON files,\n",
    "GeoPackage files, PostGIS (PostgreSQL) databases, ...\n",
    "\n",
    "We can use the [GeoPandas](https://geopandas.org/) library to read many of those GIS\n",
    "formats (relying on the `Fiona` library under the hood, which is an interface\n",
    "to GDAL/OGR), using the `geopandas.read_file` function."
   ]
  },
  {
   "cell_type": "markdown",
   "metadata": {},
   "source": [
    "### What's a GeoDataFrame?\n",
    "\n",
    "We used the GeoPandas library to read in the geospatial data. This returns a `GeoDataFrame`:"
   ]
  },
  {
   "cell_type": "markdown",
   "metadata": {},
   "source": [
    "A GeoDataFrame contains a tabular, geospatial dataset, basically a Feature collection/record-set:\n",
    "\n",
    "* It has a **'geometry' column** that holds the geometry information.\n",
    "* The other columns are the **attributes** that describe each of the geometries\n",
    "\n",
    "Such a `GeoDataFrame` is just like a pandas `DataFrame`, but with some additional functionality for working with geospatial data:\n",
    "\n",
    "* A `.geometry` attribute that always returns the column with the geometry information (returning a GeoSeries). The column name itself does not necessarily need to be 'geometry', but it will always be accessible as the `.geometry` attribute.\n",
    "* It has some extra methods for working with spatial data (area, distance, buffer, intersection, ...), which we will see in later notebooks"
   ]
  },
  {
   "cell_type": "code",
   "execution_count": null,
   "metadata": {},
   "outputs": [],
   "source": [
    "%matplotlib inline\n",
    "\n",
    "import pandas as pd\n",
    "import geopandas as gpd\n",
    "\n",
    "pd.options.display.max_rows = 10"
   ]
  },
  {
   "cell_type": "markdown",
   "metadata": {},
   "source": [
    "### Loading Data\n",
    "\n",
    "First step is to load the data into Python.\n",
    "This data can be a local file, data stored in database, or a file hosted on some server.\n",
    "Basically any of the (Vector) data formats we introduced above.\n",
    "\n",
    "#### Loading a Shapefile \n",
    "\n",
    "Loading all countries geometry (src: https://www.naturalearthdata.com/downloads/10m-cultural-vectors/)"
   ]
  },
  {
   "cell_type": "code",
   "execution_count": null,
   "metadata": {},
   "outputs": [],
   "source": [
    "#load it as a pandas dataframe with with geometry data\n",
    "countries = gpd.read_file('../data/ne_110m_admin_0_countries/ne_110m_admin_0_countries.shp')\n",
    "\n",
    "countries"
   ]
  },
  {
   "cell_type": "code",
   "execution_count": null,
   "metadata": {},
   "outputs": [],
   "source": [
    "countries.head()"
   ]
  },
  {
   "cell_type": "code",
   "execution_count": null,
   "metadata": {},
   "outputs": [],
   "source": [
    "countries.tail(10)"
   ]
  },
  {
   "cell_type": "code",
   "execution_count": null,
   "metadata": {
    "scrolled": true
   },
   "outputs": [],
   "source": [
    "countries.plot()"
   ]
  },
  {
   "cell_type": "code",
   "execution_count": null,
   "metadata": {},
   "outputs": [],
   "source": [
    "places = gpd.read_file('../data/populated_places.gpkg')\n",
    "\n",
    "places"
   ]
  },
  {
   "cell_type": "markdown",
   "metadata": {},
   "source": [
    "#### Loading a GeoJSON file\n",
    "\n",
    "Loading local geojson file "
   ]
  },
  {
   "cell_type": "code",
   "execution_count": null,
   "metadata": {},
   "outputs": [],
   "source": [
    "rivers = gpd.read_file('../data/rivers.geojson')\n",
    "rivers"
   ]
  },
  {
   "cell_type": "markdown",
   "metadata": {},
   "source": [
    "#### Loading PostgreSQL table\n",
    "\n",
    "Loading data from a database. (we only show the code, you may want to run\n",
    "and populate a local PostGIS-enabled database).\n",
    "\n",
    "```python\n",
    "import psycopg2 \n",
    "\n",
    "con = psycopg2.connect(database=\"postgres\", user=\"postgres\", password=\"postgres\",\n",
    "    host=\"localhost\")\n",
    "\n",
    "sql = \"SELECT * FROM public.places\"\n",
    "places = gpd.read_postgis(sql, con, geom_col='geom')\n",
    "```"
   ]
  },
  {
   "cell_type": "markdown",
   "metadata": {},
   "source": [
    "#### Importing a CSV file\n",
    "\n",
    "Assuming that a CSV has a geometry column in OGC Well-Known Text (WKT) format:"
   ]
  },
  {
   "cell_type": "code",
   "execution_count": null,
   "metadata": {},
   "outputs": [],
   "source": [
    "from shapely import wkt\n",
    "\n",
    "airport = gpd.read_file('../data/airport.csv')\n",
    "\n",
    "airport['geometry'] = airport['geom'].apply(wkt.loads)\n",
    "del airport['geom']\n",
    "airport"
   ]
  },
  {
   "cell_type": "markdown",
   "metadata": {},
   "source": [
    "#### Creating a geometry on the fly\n",
    "\n",
    "Create a Geodataframe from a CSV having standard text columns like \n",
    "'longitude' or 'lon' and 'latitude' or 'lat'. \n",
    "These which will be used to create a geometry column in the GeoDataFrame on-the-fly."
   ]
  },
  {
   "cell_type": "code",
   "execution_count": null,
   "metadata": {},
   "outputs": [],
   "source": [
    "import pandas as pd\n",
    "df = pd.read_csv('../data/stadium.csv')\n",
    "stadium = gpd.GeoDataFrame(\n",
    "    df, geometry=gpd.points_from_xy(df.lon, df.lat))\n",
    "stadium"
   ]
  },
  {
   "cell_type": "markdown",
   "metadata": {},
   "source": [
    "#### Creating a GeoDataFrame manually \n",
    "\n",
    "You can also create a GeoDataFrame in the Jupyter notebook, using your own data:"
   ]
  },
  {
   "cell_type": "code",
   "execution_count": null,
   "metadata": {},
   "outputs": [],
   "source": [
    "from shapely.geometry import Point\n",
    "\n",
    "parking_enforcement = gpd.GeoDataFrame({\n",
    "    'id': [1, 2,3,4,5],\n",
    "    'geometry': [Point(1, 1), Point(2, 2),Point(2, 1),Point(1, 2),Point(1.5, 2)],\n",
    "    'parking_meters': [12,34,112,41, 212]})\n",
    "parking_enforcement"
   ]
  },
  {
   "cell_type": "markdown",
   "metadata": {},
   "source": [
    "### Handling CRS in Geopandas\n",
    "\n",
    "Unlike `Shapely`, `GeoPandas` understands CRS concepts.\n",
    "\n",
    "Why are CRSs important?\n",
    " \n",
    "- a CRS definition will provide a standard mechanism to communicate the projection information of a given dataset.  This ensures correct and accurate placement of geometry\n",
    "- CRS will make sense out of your data such as whether the units are degrees/meters\n",
    "- Bringing all data in the same CRS allows us to do spatial analysis with data \n",
    "\n",
    "\n",
    "Display the CRS of a GeoDataFrame"
   ]
  },
  {
   "cell_type": "code",
   "execution_count": null,
   "metadata": {},
   "outputs": [],
   "source": [
    "countries.crs"
   ]
  },
  {
   "cell_type": "markdown",
   "metadata": {},
   "source": [
    "We can also set CRS for the GeoDataFrame which has no default CRS"
   ]
  },
  {
   "cell_type": "code",
   "execution_count": null,
   "metadata": {},
   "outputs": [],
   "source": [
    "parking_enforcement = parking_enforcement.set_crs('epsg:4326')\n",
    "parking_enforcement.crs"
   ]
  },
  {
   "cell_type": "markdown",
   "metadata": {},
   "source": [
    "We can also convert a GeoDataFrame from one CRS to another"
   ]
  },
  {
   "cell_type": "code",
   "execution_count": null,
   "metadata": {},
   "outputs": [],
   "source": [
    "parking_enforcement.crs"
   ]
  },
  {
   "cell_type": "code",
   "execution_count": null,
   "metadata": {},
   "outputs": [],
   "source": [
    "parking_enforcement_3857 = parking_enforcement.to_crs(3857)"
   ]
  },
  {
   "cell_type": "code",
   "execution_count": null,
   "metadata": {},
   "outputs": [],
   "source": [
    "parking_enforcement_3857.crs"
   ]
  },
  {
   "cell_type": "markdown",
   "metadata": {},
   "source": [
    "### Merging DataFrames\n",
    "\n",
    "#### Attribute based merge"
   ]
  },
  {
   "cell_type": "code",
   "execution_count": null,
   "metadata": {},
   "outputs": [],
   "source": [
    "neighbor = pd.DataFrame({\n",
    "    'id': [1, 2,3,4,5],\n",
    "    'neighbor_id': ['a1', 'a2','b3','c4','d5'],\n",
    "    'neighbor_name': ['andy','julio','droid','steve', 'ramesh']})\n",
    "neighbor"
   ]
  },
  {
   "cell_type": "code",
   "execution_count": null,
   "metadata": {},
   "outputs": [],
   "source": [
    "updated_parking_enforcement = parking_enforcement.merge(neighbor, on='id')\n",
    "updated_parking_enforcement"
   ]
  },
  {
   "cell_type": "markdown",
   "metadata": {},
   "source": [
    "#### Spatial merge\n",
    "\n",
    "GeoPandas also provides functions for \"Spatial Joins\".\n",
    "We won't go in many details here, but it is a very powerful\n",
    "feature you may want to check out. Some examples below:\n",
    "\n",
    "\n",
    "```python\n",
    "pd.set_option('display.max_columns', 100)\n",
    "airport = airport.set_crs('epsg:4326')\n",
    "airport.head()\n",
    "\n",
    "simple_countries = countries[['ADMIN','geometry']]\n",
    "simple_countries.head()\n",
    "\n",
    "airport_with_country = gpd.sjoin(airport, simple_countries, how=\"inner\", op='intersects')\n",
    "airport_with_country.head()\n",
    "\n",
    "```\n",
    "\n",
    "The `op` parameter is another way to perform same query can be using\n",
    " operation `within` instead of `intersect`:\n",
    "\n",
    "```python\n",
    "airport_with_country_within = gpd.sjoin(airport, simple_countries, how=\"inner\", op='within')\n",
    "airport_with_country.head()\n",
    "\n",
    "```\n",
    "Further parameters:\n",
    "\n",
    "The `how` parameter. We can use `left` , `right` , `inner` .\n",
    "\n",
    "* `left`: use the index from the first (or left_df) geodataframe that you provide to sjoin; retain only the left_df geometry column\n",
    "* `right`: use the index from second (or right_df); retain only the right_df geometry column\n",
    "* `inner`: use the intersection of index values from both geodataframes; retain only the left_df geometry column\n",
    "\n",
    "```python\n",
    "airport_with_country_right = gpd.sjoin(airport, simple_countries, how=\"right\", op='within')\n",
    "airport_with_country_right.head()\n",
    "```"
   ]
  },
  {
   "cell_type": "markdown",
   "metadata": {},
   "source": [
    "### Edit the existing data\n",
    "\n",
    "#### Editing metadata"
   ]
  },
  {
   "cell_type": "code",
   "execution_count": null,
   "metadata": {},
   "outputs": [],
   "source": [
    "updated_parking_enforcement.iloc[0]"
   ]
  },
  {
   "cell_type": "code",
   "execution_count": null,
   "metadata": {},
   "outputs": [],
   "source": [
    "updated_parking_enforcement.iloc[0,2] = 24"
   ]
  },
  {
   "cell_type": "code",
   "execution_count": null,
   "metadata": {},
   "outputs": [],
   "source": [
    "updated_parking_enforcement.iloc[0]"
   ]
  },
  {
   "cell_type": "markdown",
   "metadata": {},
   "source": [
    "#### Editing geometry"
   ]
  },
  {
   "cell_type": "code",
   "execution_count": null,
   "metadata": {},
   "outputs": [],
   "source": [
    "from shapely.geometry import Point\n",
    "\n",
    "updated_point = Point(3,4)\n",
    "updated_parking_enforcement.iloc[0,0] = updated_point\n",
    "updated_parking_enforcement"
   ]
  },
  {
   "cell_type": "markdown",
   "metadata": {},
   "source": [
    "### Querying data\n",
    "\n",
    "#### Based on metadata"
   ]
  },
  {
   "cell_type": "code",
   "execution_count": null,
   "metadata": {},
   "outputs": [],
   "source": [
    "countries.head()"
   ]
  },
  {
   "cell_type": "code",
   "execution_count": null,
   "metadata": {},
   "outputs": [],
   "source": [
    "India = countries[countries['ADMIN'] == \"India\"]\n",
    "India"
   ]
  },
  {
   "cell_type": "code",
   "execution_count": null,
   "metadata": {},
   "outputs": [],
   "source": [
    "densly_pop = countries[countries['POP_EST'] > 100000000]\n",
    "densly_pop"
   ]
  },
  {
   "cell_type": "code",
   "execution_count": null,
   "metadata": {},
   "outputs": [],
   "source": [
    "countriesWithC = countries[countries['SOVEREIGNT'].str.startswith('C')]\n",
    "countriesWithC"
   ]
  },
  {
   "cell_type": "code",
   "execution_count": null,
   "metadata": {},
   "outputs": [],
   "source": [
    "densecountriesWithC = countries[(countries['SOVEREIGNT'].str.startswith('C')) &  (countries['POP_EST'] > 1000000000)]\n",
    "densecountriesWithC"
   ]
  },
  {
   "cell_type": "markdown",
   "metadata": {},
   "source": [
    "#### Spatial query\n",
    "\n",
    "Spatial query uses shapely geometry as base geometry on top of which geodataframe can be queried.\n",
    "Available oprations are listed at\n",
    "https://shapely.readthedocs.io/en/latest/manual.html#binary-predicates"
   ]
  },
  {
   "cell_type": "code",
   "execution_count": null,
   "metadata": {},
   "outputs": [],
   "source": [
    "indian_shape = India['geometry'].squeeze()"
   ]
  },
  {
   "cell_type": "code",
   "execution_count": null,
   "metadata": {},
   "outputs": [],
   "source": [
    "type(India['geometry'].squeeze())"
   ]
  },
  {
   "cell_type": "code",
   "execution_count": null,
   "metadata": {},
   "outputs": [],
   "source": [
    "test_pt = Point(1,1)"
   ]
  },
  {
   "cell_type": "code",
   "execution_count": null,
   "metadata": {},
   "outputs": [],
   "source": [
    "test_pt.intersects(indian_shape)"
   ]
  },
  {
   "cell_type": "code",
   "execution_count": null,
   "metadata": {},
   "outputs": [],
   "source": [
    "nashik = Point(73.76,19.93)"
   ]
  },
  {
   "cell_type": "code",
   "execution_count": null,
   "metadata": {},
   "outputs": [],
   "source": [
    "nashik.within(indian_shape)"
   ]
  },
  {
   "cell_type": "code",
   "execution_count": null,
   "metadata": {},
   "outputs": [],
   "source": [
    "indian_airport = airport[airport.within(indian_shape)]\n",
    "indian_airport"
   ]
  },
  {
   "cell_type": "markdown",
   "metadata": {},
   "source": [
    "#### Quiz: Can you create the dataframe of all airports and cities within your country"
   ]
  },
  {
   "cell_type": "code",
   "execution_count": null,
   "metadata": {},
   "outputs": [],
   "source": [
    "indian_rivers = rivers[rivers.intersects(indian_shape)]\n",
    "indian_rivers.plot()"
   ]
  },
  {
   "cell_type": "code",
   "execution_count": null,
   "metadata": {},
   "outputs": [],
   "source": [
    "Neighbours_India = countries[countries.touches(indian_shape)]\n",
    "Neighbours_India.plot()"
   ]
  },
  {
   "cell_type": "markdown",
   "metadata": {},
   "source": [
    "### Geospatial Operations\n",
    "\n",
    "Understanding base logic first! Back to Shapely."
   ]
  },
  {
   "cell_type": "code",
   "execution_count": null,
   "metadata": {},
   "outputs": [],
   "source": [
    "test_point = Point(0,0)\n",
    "test_point"
   ]
  },
  {
   "cell_type": "code",
   "execution_count": null,
   "metadata": {},
   "outputs": [],
   "source": [
    "test_point.buffer(10)"
   ]
  },
  {
   "cell_type": "code",
   "execution_count": null,
   "metadata": {},
   "outputs": [],
   "source": [
    "test_point.buffer(10).area"
   ]
  },
  {
   "cell_type": "code",
   "execution_count": null,
   "metadata": {},
   "outputs": [],
   "source": [
    "from shapely.geometry import LineString\n",
    "\n",
    "test_line = LineString([(0, 0), (1, 1), (0, 2)])\n",
    "test_line"
   ]
  },
  {
   "cell_type": "code",
   "execution_count": null,
   "metadata": {},
   "outputs": [],
   "source": [
    "#Buffer puts original geometry at center and create buffer alongside\n",
    "test_line.buffer(0.1)"
   ]
  },
  {
   "cell_type": "code",
   "execution_count": null,
   "metadata": {},
   "outputs": [],
   "source": [
    "#We can also put geometry on either side ( Positive value will put buffer to left)\n",
    "\n",
    "test_line.buffer(0.5, single_sided=True)"
   ]
  },
  {
   "cell_type": "code",
   "execution_count": null,
   "metadata": {},
   "outputs": [],
   "source": [
    "#We can also put geometry on either side ( negative value will put buffer to right)\n",
    "\n",
    "test_line.buffer(-0.5, single_sided=True)"
   ]
  },
  {
   "cell_type": "markdown",
   "metadata": {},
   "source": [
    "#### Operations in `geopandas`"
   ]
  },
  {
   "cell_type": "code",
   "execution_count": null,
   "metadata": {},
   "outputs": [],
   "source": [
    "Indian_cities =  places[places.within(indian_shape)]\n",
    "Indian_cities"
   ]
  },
  {
   "cell_type": "code",
   "execution_count": null,
   "metadata": {},
   "outputs": [],
   "source": [
    "Indian_cities_m = Indian_cities.to_crs(3857)\n",
    "Indian_cities_m.crs"
   ]
  },
  {
   "cell_type": "code",
   "execution_count": null,
   "metadata": {},
   "outputs": [],
   "source": [
    "city_buffer = Indian_cities_m[['geometry','NAME']]\n",
    "city_buffer"
   ]
  },
  {
   "cell_type": "code",
   "execution_count": null,
   "metadata": {},
   "outputs": [],
   "source": [
    "import matplotlib.pyplot as plt\n",
    "fig, ax = plt.subplots(figsize=(16, 16))\n",
    "India.plot(ax=ax, color='#ffffff', edgecolor='#6a6a6a', linewidth=2)\n",
    "city_buffer.plot(ax=ax, color='#f00', edgecolor='#000000')"
   ]
  },
  {
   "cell_type": "code",
   "execution_count": null,
   "metadata": {},
   "outputs": [],
   "source": [
    "city_buffer['geom'] = city_buffer.buffer(50000)\n",
    "city_buffer"
   ]
  },
  {
   "cell_type": "code",
   "execution_count": null,
   "metadata": {},
   "outputs": [],
   "source": [
    "countries_centroid = countries[['geometry','NAME','CONTINENT']]\n",
    "countries_centroid.head()"
   ]
  },
  {
   "cell_type": "code",
   "execution_count": null,
   "metadata": {},
   "outputs": [],
   "source": [
    "countries_centroid['geometry'] = countries_centroid['geometry'].centroid\n",
    "countries_centroid.head()"
   ]
  },
  {
   "cell_type": "code",
   "execution_count": null,
   "metadata": {},
   "outputs": [],
   "source": [
    "countries['area'] = countries['geometry'].area\n",
    "countries.head()"
   ]
  },
  {
   "cell_type": "markdown",
   "metadata": {},
   "source": [
    "## Visualising a GeoDataFrame"
   ]
  },
  {
   "cell_type": "code",
   "execution_count": null,
   "metadata": {},
   "outputs": [],
   "source": [
    "#simple visualisation \n",
    "countries.plot()"
   ]
  },
  {
   "cell_type": "code",
   "execution_count": null,
   "metadata": {},
   "outputs": [],
   "source": [
    "countries_m = countries[countries['NAME'] != \"Antarctica\"]\n",
    "countries_m.plot()"
   ]
  },
  {
   "cell_type": "code",
   "execution_count": null,
   "metadata": {},
   "outputs": [],
   "source": [
    "#color based on column\n",
    "countries_m.plot(column='CONTINENT')"
   ]
  },
  {
   "cell_type": "code",
   "execution_count": null,
   "metadata": {},
   "outputs": [],
   "source": [
    "countries_m.plot(column='CONTINENT',legend=True)"
   ]
  },
  {
   "cell_type": "code",
   "execution_count": null,
   "metadata": {},
   "outputs": [],
   "source": [
    "import matplotlib.pyplot as plt\n",
    "\n",
    "fig, ax = plt.subplots(figsize=(16, 16))\n",
    "countries_m.plot(ax=ax,column='CONTINENT',legend=True)"
   ]
  },
  {
   "cell_type": "code",
   "execution_count": null,
   "metadata": {},
   "outputs": [],
   "source": [
    "ax = countries_m.plot(column='CONTINENT',legend=True)\n",
    "ax.set_axis_off()"
   ]
  },
  {
   "cell_type": "code",
   "execution_count": null,
   "metadata": {},
   "outputs": [],
   "source": [
    "#Checkout available color maps => https://matplotlib.org/2.0.2/users/colormaps.html\n",
    "countries_m.plot(column='CONTINENT',  cmap='winter')\n"
   ]
  },
  {
   "cell_type": "code",
   "execution_count": null,
   "metadata": {},
   "outputs": [],
   "source": [
    "countries_plot = countries_m[(countries_m['NAME'] != 'India') & (countries_m['NAME'] != 'China')]\n",
    "countries_plot.plot(column='POP_EST',legend=True,figsize=(16,16), legend_kwds={'label': 'Population'})"
   ]
  },
  {
   "cell_type": "markdown",
   "metadata": {},
   "source": [
    "### matplotlib to show multiple data "
   ]
  },
  {
   "cell_type": "code",
   "execution_count": null,
   "metadata": {},
   "outputs": [],
   "source": [
    "basemap = countries_m.plot(column='CONTINENT', cmap='cool')\n",
    "cities_m = places.to_crs(3857)\n",
    "cities_m.plot(ax=basemap, marker='o', color='red', markersize=5)"
   ]
  },
  {
   "cell_type": "code",
   "execution_count": null,
   "metadata": {},
   "outputs": [],
   "source": [
    "#load world polygon\n",
    "bbox = gpd.read_file('../data/world.geojson')\n",
    "world = bbox.loc[0].geometry\n",
    "world"
   ]
  },
  {
   "cell_type": "code",
   "execution_count": null,
   "metadata": {},
   "outputs": [],
   "source": [
    "cities_m = cities_m[cities_m.within(world)]"
   ]
  },
  {
   "cell_type": "code",
   "execution_count": null,
   "metadata": {},
   "outputs": [],
   "source": [
    "basemap = countries_m.plot(column='CONTINENT', cmap='cool')\n",
    "cities_m.plot(ax=basemap, marker='o', color='red', markersize=5)"
   ]
  },
  {
   "cell_type": "markdown",
   "metadata": {},
   "source": [
    "### geopandas overlay to show multiple data "
   ]
  },
  {
   "cell_type": "code",
   "execution_count": null,
   "metadata": {},
   "outputs": [],
   "source": [
    "fig, ax = plt.subplots(figsize=(16, 16))\n",
    "\n",
    "India.plot(ax=ax, color='b', edgecolor='#f0f', linewidth=2)\n",
    "Indian_cities_m.plot(ax=ax, color='r', edgecolor='#fff')\n"
   ]
  },
  {
   "cell_type": "code",
   "execution_count": null,
   "metadata": {},
   "outputs": [],
   "source": [
    "Indian_cities_m['geometry'] = Indian_cities_m['geometry'].buffer(50000)"
   ]
  },
  {
   "cell_type": "code",
   "execution_count": null,
   "metadata": {},
   "outputs": [],
   "source": [
    "fig, ax = plt.subplots(figsize=(16, 16))\n",
    "\n",
    "India.plot(ax=ax, color='b', edgecolor='#f0f', linewidth=2)\n",
    "Indian_cities_m.plot(ax=ax, color='r', edgecolor='#fff')"
   ]
  },
  {
   "cell_type": "markdown",
   "metadata": {
    "pycharm": {
     "name": "#%% md\n"
    }
   },
   "source": [
    "You may also do an `overlay` function:\n",
    "\n",
    "```\n",
    "non_rural_area = gpd.overlay(India, Indian_cities_m, how='difference')\n",
    "non_rural_area.plot(figsize=(16, 16))\n",
    "```"
   ]
  },
  {
   "cell_type": "markdown",
   "metadata": {},
   "source": [
    "---\n",
    "[<- Spatial Reference Systems](03-spatial-reference-systems.ipynb) | [Raster data ->](05-raster-data.ipynb)\n"
   ]
  }
 ],
 "metadata": {
  "kernelspec": {
   "display_name": "Python 3 (ipykernel)",
   "language": "python",
   "name": "python3"
  },
  "language_info": {
   "codemirror_mode": {
    "name": "ipython",
    "version": 3
   },
   "file_extension": ".py",
   "mimetype": "text/x-python",
   "name": "python",
   "nbconvert_exporter": "python",
   "pygments_lexer": "ipython3",
   "version": "3.10.4"
  },
  "vscode": {
   "interpreter": {
    "hash": "aee8b7b246df8f9039afb4144a1f6fd8d2ca17a180786b69acc140d282b71a49"
   }
  }
 },
 "nbformat": 4,
 "nbformat_minor": 2
}
